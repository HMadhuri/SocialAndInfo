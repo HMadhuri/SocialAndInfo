{
  "nbformat": 4,
  "nbformat_minor": 0,
  "metadata": {
    "colab": {
      "provenance": []
    },
    "kernelspec": {
      "name": "python3",
      "display_name": "Python 3"
    },
    "language_info": {
      "name": "python"
    }
  },
  "cells": [
    {
      "cell_type": "code",
      "execution_count": null,
      "metadata": {
        "id": "vCR_SROnxy-f"
      },
      "outputs": [],
      "source": [
        "import pandas as pd"
      ]
    },
    {
      "cell_type": "code",
      "source": [
        "data=pd.read_csv(\"dreaddit-train.csv\")\n",
        "testdata=pd.read_csv(\"dreaddit-test.csv\")\n",
        "data.head()"
      ],
      "metadata": {
        "colab": {
          "base_uri": "https://localhost:8080/",
          "height": 646
        },
        "id": "iw9rXQJ833Ck",
        "outputId": "cf9b31a7-a28c-4573-ee48-330b2ac28d0d"
      },
      "execution_count": null,
      "outputs": [
        {
          "output_type": "execute_result",
          "data": {
            "text/plain": [
              "          subreddit post_id sentence_range  \\\n",
              "0              ptsd  8601tu       (15, 20)   \n",
              "1        assistance  8lbrx9         (0, 5)   \n",
              "2              ptsd  9ch1zh       (15, 20)   \n",
              "3     relationships  7rorpp        [5, 10]   \n",
              "4  survivorsofabuse  9p2gbc         [0, 5]   \n",
              "\n",
              "                                                text     id  label  \\\n",
              "0  He said he had not felt that way before, sugge...  33181      1   \n",
              "1  Hey there r/assistance, Not sure if this is th...   2606      0   \n",
              "2  My mom then hit me with the newspaper and it s...  38816      1   \n",
              "3  until i met my new boyfriend, he is amazing, h...    239      1   \n",
              "4  October is Domestic Violence Awareness Month a...   1421      1   \n",
              "\n",
              "   confidence  social_timestamp  social_karma  syntax_ari  ...  \\\n",
              "0         0.8        1521614353             5    1.806818  ...   \n",
              "1         1.0        1527009817             4    9.429737  ...   \n",
              "2         0.8        1535935605             2    7.769821  ...   \n",
              "3         0.6        1516429555             0    2.667798  ...   \n",
              "4         0.8        1539809005            24    7.554238  ...   \n",
              "\n",
              "   lex_dal_min_pleasantness  lex_dal_min_activation  lex_dal_min_imagery  \\\n",
              "0                     1.000                  1.1250                  1.0   \n",
              "1                     1.125                  1.0000                  1.0   \n",
              "2                     1.000                  1.1429                  1.0   \n",
              "3                     1.000                  1.1250                  1.0   \n",
              "4                     1.000                  1.1250                  1.0   \n",
              "\n",
              "   lex_dal_avg_activation  lex_dal_avg_imagery  lex_dal_avg_pleasantness  \\\n",
              "0                 1.77000              1.52211                   1.89556   \n",
              "1                 1.69586              1.62045                   1.88919   \n",
              "2                 1.83088              1.58108                   1.85828   \n",
              "3                 1.75356              1.52114                   1.98848   \n",
              "4                 1.77644              1.64872                   1.81456   \n",
              "\n",
              "   social_upvote_ratio  social_num_comments  syntax_fk_grade  sentiment  \n",
              "0                 0.86                    1         3.253573  -0.002742  \n",
              "1                 0.65                    2         8.828316   0.292857  \n",
              "2                 0.67                    0         7.841667   0.011894  \n",
              "3                 0.50                    5         4.104027   0.141671  \n",
              "4                 1.00                    1         7.910952  -0.204167  \n",
              "\n",
              "[5 rows x 116 columns]"
            ],
            "text/html": [
              "\n",
              "  <div id=\"df-d234aacf-d58f-484d-b361-2229cc1ff0fd\">\n",
              "    <div class=\"colab-df-container\">\n",
              "      <div>\n",
              "<style scoped>\n",
              "    .dataframe tbody tr th:only-of-type {\n",
              "        vertical-align: middle;\n",
              "    }\n",
              "\n",
              "    .dataframe tbody tr th {\n",
              "        vertical-align: top;\n",
              "    }\n",
              "\n",
              "    .dataframe thead th {\n",
              "        text-align: right;\n",
              "    }\n",
              "</style>\n",
              "<table border=\"1\" class=\"dataframe\">\n",
              "  <thead>\n",
              "    <tr style=\"text-align: right;\">\n",
              "      <th></th>\n",
              "      <th>subreddit</th>\n",
              "      <th>post_id</th>\n",
              "      <th>sentence_range</th>\n",
              "      <th>text</th>\n",
              "      <th>id</th>\n",
              "      <th>label</th>\n",
              "      <th>confidence</th>\n",
              "      <th>social_timestamp</th>\n",
              "      <th>social_karma</th>\n",
              "      <th>syntax_ari</th>\n",
              "      <th>...</th>\n",
              "      <th>lex_dal_min_pleasantness</th>\n",
              "      <th>lex_dal_min_activation</th>\n",
              "      <th>lex_dal_min_imagery</th>\n",
              "      <th>lex_dal_avg_activation</th>\n",
              "      <th>lex_dal_avg_imagery</th>\n",
              "      <th>lex_dal_avg_pleasantness</th>\n",
              "      <th>social_upvote_ratio</th>\n",
              "      <th>social_num_comments</th>\n",
              "      <th>syntax_fk_grade</th>\n",
              "      <th>sentiment</th>\n",
              "    </tr>\n",
              "  </thead>\n",
              "  <tbody>\n",
              "    <tr>\n",
              "      <th>0</th>\n",
              "      <td>ptsd</td>\n",
              "      <td>8601tu</td>\n",
              "      <td>(15, 20)</td>\n",
              "      <td>He said he had not felt that way before, sugge...</td>\n",
              "      <td>33181</td>\n",
              "      <td>1</td>\n",
              "      <td>0.8</td>\n",
              "      <td>1521614353</td>\n",
              "      <td>5</td>\n",
              "      <td>1.806818</td>\n",
              "      <td>...</td>\n",
              "      <td>1.000</td>\n",
              "      <td>1.1250</td>\n",
              "      <td>1.0</td>\n",
              "      <td>1.77000</td>\n",
              "      <td>1.52211</td>\n",
              "      <td>1.89556</td>\n",
              "      <td>0.86</td>\n",
              "      <td>1</td>\n",
              "      <td>3.253573</td>\n",
              "      <td>-0.002742</td>\n",
              "    </tr>\n",
              "    <tr>\n",
              "      <th>1</th>\n",
              "      <td>assistance</td>\n",
              "      <td>8lbrx9</td>\n",
              "      <td>(0, 5)</td>\n",
              "      <td>Hey there r/assistance, Not sure if this is th...</td>\n",
              "      <td>2606</td>\n",
              "      <td>0</td>\n",
              "      <td>1.0</td>\n",
              "      <td>1527009817</td>\n",
              "      <td>4</td>\n",
              "      <td>9.429737</td>\n",
              "      <td>...</td>\n",
              "      <td>1.125</td>\n",
              "      <td>1.0000</td>\n",
              "      <td>1.0</td>\n",
              "      <td>1.69586</td>\n",
              "      <td>1.62045</td>\n",
              "      <td>1.88919</td>\n",
              "      <td>0.65</td>\n",
              "      <td>2</td>\n",
              "      <td>8.828316</td>\n",
              "      <td>0.292857</td>\n",
              "    </tr>\n",
              "    <tr>\n",
              "      <th>2</th>\n",
              "      <td>ptsd</td>\n",
              "      <td>9ch1zh</td>\n",
              "      <td>(15, 20)</td>\n",
              "      <td>My mom then hit me with the newspaper and it s...</td>\n",
              "      <td>38816</td>\n",
              "      <td>1</td>\n",
              "      <td>0.8</td>\n",
              "      <td>1535935605</td>\n",
              "      <td>2</td>\n",
              "      <td>7.769821</td>\n",
              "      <td>...</td>\n",
              "      <td>1.000</td>\n",
              "      <td>1.1429</td>\n",
              "      <td>1.0</td>\n",
              "      <td>1.83088</td>\n",
              "      <td>1.58108</td>\n",
              "      <td>1.85828</td>\n",
              "      <td>0.67</td>\n",
              "      <td>0</td>\n",
              "      <td>7.841667</td>\n",
              "      <td>0.011894</td>\n",
              "    </tr>\n",
              "    <tr>\n",
              "      <th>3</th>\n",
              "      <td>relationships</td>\n",
              "      <td>7rorpp</td>\n",
              "      <td>[5, 10]</td>\n",
              "      <td>until i met my new boyfriend, he is amazing, h...</td>\n",
              "      <td>239</td>\n",
              "      <td>1</td>\n",
              "      <td>0.6</td>\n",
              "      <td>1516429555</td>\n",
              "      <td>0</td>\n",
              "      <td>2.667798</td>\n",
              "      <td>...</td>\n",
              "      <td>1.000</td>\n",
              "      <td>1.1250</td>\n",
              "      <td>1.0</td>\n",
              "      <td>1.75356</td>\n",
              "      <td>1.52114</td>\n",
              "      <td>1.98848</td>\n",
              "      <td>0.50</td>\n",
              "      <td>5</td>\n",
              "      <td>4.104027</td>\n",
              "      <td>0.141671</td>\n",
              "    </tr>\n",
              "    <tr>\n",
              "      <th>4</th>\n",
              "      <td>survivorsofabuse</td>\n",
              "      <td>9p2gbc</td>\n",
              "      <td>[0, 5]</td>\n",
              "      <td>October is Domestic Violence Awareness Month a...</td>\n",
              "      <td>1421</td>\n",
              "      <td>1</td>\n",
              "      <td>0.8</td>\n",
              "      <td>1539809005</td>\n",
              "      <td>24</td>\n",
              "      <td>7.554238</td>\n",
              "      <td>...</td>\n",
              "      <td>1.000</td>\n",
              "      <td>1.1250</td>\n",
              "      <td>1.0</td>\n",
              "      <td>1.77644</td>\n",
              "      <td>1.64872</td>\n",
              "      <td>1.81456</td>\n",
              "      <td>1.00</td>\n",
              "      <td>1</td>\n",
              "      <td>7.910952</td>\n",
              "      <td>-0.204167</td>\n",
              "    </tr>\n",
              "  </tbody>\n",
              "</table>\n",
              "<p>5 rows × 116 columns</p>\n",
              "</div>\n",
              "      <button class=\"colab-df-convert\" onclick=\"convertToInteractive('df-d234aacf-d58f-484d-b361-2229cc1ff0fd')\"\n",
              "              title=\"Convert this dataframe to an interactive table.\"\n",
              "              style=\"display:none;\">\n",
              "        \n",
              "  <svg xmlns=\"http://www.w3.org/2000/svg\" height=\"24px\"viewBox=\"0 0 24 24\"\n",
              "       width=\"24px\">\n",
              "    <path d=\"M0 0h24v24H0V0z\" fill=\"none\"/>\n",
              "    <path d=\"M18.56 5.44l.94 2.06.94-2.06 2.06-.94-2.06-.94-.94-2.06-.94 2.06-2.06.94zm-11 1L8.5 8.5l.94-2.06 2.06-.94-2.06-.94L8.5 2.5l-.94 2.06-2.06.94zm10 10l.94 2.06.94-2.06 2.06-.94-2.06-.94-.94-2.06-.94 2.06-2.06.94z\"/><path d=\"M17.41 7.96l-1.37-1.37c-.4-.4-.92-.59-1.43-.59-.52 0-1.04.2-1.43.59L10.3 9.45l-7.72 7.72c-.78.78-.78 2.05 0 2.83L4 21.41c.39.39.9.59 1.41.59.51 0 1.02-.2 1.41-.59l7.78-7.78 2.81-2.81c.8-.78.8-2.07 0-2.86zM5.41 20L4 18.59l7.72-7.72 1.47 1.35L5.41 20z\"/>\n",
              "  </svg>\n",
              "      </button>\n",
              "      \n",
              "  <style>\n",
              "    .colab-df-container {\n",
              "      display:flex;\n",
              "      flex-wrap:wrap;\n",
              "      gap: 12px;\n",
              "    }\n",
              "\n",
              "    .colab-df-convert {\n",
              "      background-color: #E8F0FE;\n",
              "      border: none;\n",
              "      border-radius: 50%;\n",
              "      cursor: pointer;\n",
              "      display: none;\n",
              "      fill: #1967D2;\n",
              "      height: 32px;\n",
              "      padding: 0 0 0 0;\n",
              "      width: 32px;\n",
              "    }\n",
              "\n",
              "    .colab-df-convert:hover {\n",
              "      background-color: #E2EBFA;\n",
              "      box-shadow: 0px 1px 2px rgba(60, 64, 67, 0.3), 0px 1px 3px 1px rgba(60, 64, 67, 0.15);\n",
              "      fill: #174EA6;\n",
              "    }\n",
              "\n",
              "    [theme=dark] .colab-df-convert {\n",
              "      background-color: #3B4455;\n",
              "      fill: #D2E3FC;\n",
              "    }\n",
              "\n",
              "    [theme=dark] .colab-df-convert:hover {\n",
              "      background-color: #434B5C;\n",
              "      box-shadow: 0px 1px 3px 1px rgba(0, 0, 0, 0.15);\n",
              "      filter: drop-shadow(0px 1px 2px rgba(0, 0, 0, 0.3));\n",
              "      fill: #FFFFFF;\n",
              "    }\n",
              "  </style>\n",
              "\n",
              "      <script>\n",
              "        const buttonEl =\n",
              "          document.querySelector('#df-d234aacf-d58f-484d-b361-2229cc1ff0fd button.colab-df-convert');\n",
              "        buttonEl.style.display =\n",
              "          google.colab.kernel.accessAllowed ? 'block' : 'none';\n",
              "\n",
              "        async function convertToInteractive(key) {\n",
              "          const element = document.querySelector('#df-d234aacf-d58f-484d-b361-2229cc1ff0fd');\n",
              "          const dataTable =\n",
              "            await google.colab.kernel.invokeFunction('convertToInteractive',\n",
              "                                                     [key], {});\n",
              "          if (!dataTable) return;\n",
              "\n",
              "          const docLinkHtml = 'Like what you see? Visit the ' +\n",
              "            '<a target=\"_blank\" href=https://colab.research.google.com/notebooks/data_table.ipynb>data table notebook</a>'\n",
              "            + ' to learn more about interactive tables.';\n",
              "          element.innerHTML = '';\n",
              "          dataTable['output_type'] = 'display_data';\n",
              "          await google.colab.output.renderOutput(dataTable, element);\n",
              "          const docLink = document.createElement('div');\n",
              "          docLink.innerHTML = docLinkHtml;\n",
              "          element.appendChild(docLink);\n",
              "        }\n",
              "      </script>\n",
              "    </div>\n",
              "  </div>\n",
              "  "
            ]
          },
          "metadata": {},
          "execution_count": 2
        }
      ]
    },
    {
      "cell_type": "code",
      "source": [
        "data=data[data.subreddit!='food_pantry']"
      ],
      "metadata": {
        "id": "NXTgUEfo6_ir"
      },
      "execution_count": null,
      "outputs": []
    },
    {
      "cell_type": "code",
      "source": [
        "print(data.columns)"
      ],
      "metadata": {
        "colab": {
          "base_uri": "https://localhost:8080/"
        },
        "id": "_W-SRpcgmd2b",
        "outputId": "6e0985f8-30d0-4857-ab46-fe7f8cce2bf6"
      },
      "execution_count": null,
      "outputs": [
        {
          "output_type": "stream",
          "name": "stdout",
          "text": [
            "Index(['subreddit', 'post_id', 'sentence_range', 'text', 'id', 'label',\n",
            "       'confidence', 'social_timestamp', 'social_karma', 'syntax_ari',\n",
            "       ...\n",
            "       'lex_dal_min_pleasantness', 'lex_dal_min_activation',\n",
            "       'lex_dal_min_imagery', 'lex_dal_avg_activation', 'lex_dal_avg_imagery',\n",
            "       'lex_dal_avg_pleasantness', 'social_upvote_ratio',\n",
            "       'social_num_comments', 'syntax_fk_grade', 'sentiment'],\n",
            "      dtype='object', length=116)\n"
          ]
        }
      ]
    },
    {
      "cell_type": "code",
      "source": [
        "#TRAINING DATA SIZE\n",
        "print(data.shape)"
      ],
      "metadata": {
        "colab": {
          "base_uri": "https://localhost:8080/"
        },
        "id": "IHKqmAWvmkMM",
        "outputId": "0b5ff6ea-76bb-4ef4-e234-92a411e06804"
      },
      "execution_count": null,
      "outputs": [
        {
          "output_type": "stream",
          "name": "stdout",
          "text": [
            "(2801, 116)\n"
          ]
        }
      ]
    },
    {
      "cell_type": "code",
      "source": [
        "#TEST DATA SIZE\n",
        "print(testdata.shape)"
      ],
      "metadata": {
        "colab": {
          "base_uri": "https://localhost:8080/"
        },
        "id": "I_MUOffQmtCW",
        "outputId": "2979569a-15be-41e3-db12-71dd6f5d3d2a"
      },
      "execution_count": null,
      "outputs": [
        {
          "output_type": "stream",
          "name": "stdout",
          "text": [
            "(715, 116)\n"
          ]
        }
      ]
    },
    {
      "cell_type": "markdown",
      "source": [
        "TEXT PRE-PROCESSING"
      ],
      "metadata": {
        "id": "oeljKc437NgM"
      }
    },
    {
      "cell_type": "code",
      "source": [
        "#Removing Punctuations\n",
        "import string\n",
        "string.punctuation"
      ],
      "metadata": {
        "colab": {
          "base_uri": "https://localhost:8080/",
          "height": 36
        },
        "id": "Tw4KIr3t7J5X",
        "outputId": "307071f0-a8e8-475d-c790-895e0c880697"
      },
      "execution_count": null,
      "outputs": [
        {
          "output_type": "execute_result",
          "data": {
            "text/plain": [
              "'!\"#$%&\\'()*+,-./:;<=>?@[\\\\]^_`{|}~'"
            ],
            "application/vnd.google.colaboratory.intrinsic+json": {
              "type": "string"
            }
          },
          "metadata": {},
          "execution_count": 7
        }
      ]
    },
    {
      "cell_type": "code",
      "source": [
        "#Function defining punctuation less string\n",
        "def punctuation_less(celltext):\n",
        "  string_free=\"\".join([i for i in celltext if i not in string.punctuation])\n",
        "  return string_free"
      ],
      "metadata": {
        "id": "fCsfRVu77Z7E"
      },
      "execution_count": null,
      "outputs": []
    },
    {
      "cell_type": "code",
      "source": [
        "#calling the function\n",
        "data['punc_free']=data['text'].apply(lambda x:punctuation_less(x))\n",
        "#data.head()\n",
        "data['text'].head()   #before we remove the punctuation"
      ],
      "metadata": {
        "colab": {
          "base_uri": "https://localhost:8080/"
        },
        "id": "pjQciK6u7wzc",
        "outputId": "c9e95039-d605-4fa2-e834-bb2865bc6153"
      },
      "execution_count": null,
      "outputs": [
        {
          "output_type": "execute_result",
          "data": {
            "text/plain": [
              "0    He said he had not felt that way before, sugge...\n",
              "1    Hey there r/assistance, Not sure if this is th...\n",
              "2    My mom then hit me with the newspaper and it s...\n",
              "3    until i met my new boyfriend, he is amazing, h...\n",
              "4    October is Domestic Violence Awareness Month a...\n",
              "Name: text, dtype: object"
            ]
          },
          "metadata": {},
          "execution_count": 9
        }
      ]
    },
    {
      "cell_type": "markdown",
      "source": [
        "After removal of punctuation we get the output as"
      ],
      "metadata": {
        "id": "7gI9ZugJ83Wj"
      }
    },
    {
      "cell_type": "code",
      "source": [
        "data['punc_free'].head()"
      ],
      "metadata": {
        "colab": {
          "base_uri": "https://localhost:8080/"
        },
        "id": "FY_7FUku88Cd",
        "outputId": "4faff607-b166-484b-b8e0-fc5661f9191f"
      },
      "execution_count": null,
      "outputs": [
        {
          "output_type": "execute_result",
          "data": {
            "text/plain": [
              "0    He said he had not felt that way before sugget...\n",
              "1    Hey there rassistance Not sure if this is the ...\n",
              "2    My mom then hit me with the newspaper and it s...\n",
              "3    until i met my new boyfriend he is amazing he ...\n",
              "4    October is Domestic Violence Awareness Month a...\n",
              "Name: punc_free, dtype: object"
            ]
          },
          "metadata": {},
          "execution_count": 10
        }
      ]
    },
    {
      "cell_type": "markdown",
      "source": [
        "Step 2 in Lowercasing of text"
      ],
      "metadata": {
        "id": "wzQSoqaF9EC_"
      }
    },
    {
      "cell_type": "code",
      "source": [
        "data['lower_celltext']=data['punc_free'].apply(lambda x:x.lower())\n",
        "data['lower_celltext'].head()"
      ],
      "metadata": {
        "colab": {
          "base_uri": "https://localhost:8080/"
        },
        "id": "aEP58ng-8zIQ",
        "outputId": "f0fb58e0-8dd4-4c51-9867-7e925ad291a6"
      },
      "execution_count": null,
      "outputs": [
        {
          "output_type": "execute_result",
          "data": {
            "text/plain": [
              "0    he said he had not felt that way before sugget...\n",
              "1    hey there rassistance not sure if this is the ...\n",
              "2    my mom then hit me with the newspaper and it s...\n",
              "3    until i met my new boyfriend he is amazing he ...\n",
              "4    october is domestic violence awareness month a...\n",
              "Name: lower_celltext, dtype: object"
            ]
          },
          "metadata": {},
          "execution_count": 11
        }
      ]
    },
    {
      "cell_type": "markdown",
      "source": [
        "Using the re package for Tokenizing the text"
      ],
      "metadata": {
        "id": "jX_uV3zy9gwR"
      }
    },
    {
      "cell_type": "code",
      "source": [
        "import re\n",
        "import nltk\n",
        "nltk.download()"
      ],
      "metadata": {
        "colab": {
          "base_uri": "https://localhost:8080/"
        },
        "id": "C5RGMWoN9iKD",
        "outputId": "185fd67a-804e-46d2-c38f-cd962a506500"
      },
      "execution_count": null,
      "outputs": [
        {
          "name": "stdout",
          "output_type": "stream",
          "text": [
            "NLTK Downloader\n",
            "---------------------------------------------------------------------------\n",
            "    d) Download   l) List    u) Update   c) Config   h) Help   q) Quit\n",
            "---------------------------------------------------------------------------\n",
            "Downloader> q\n"
          ]
        },
        {
          "output_type": "execute_result",
          "data": {
            "text/plain": [
              "True"
            ]
          },
          "metadata": {},
          "execution_count": 12
        }
      ]
    },
    {
      "cell_type": "code",
      "source": [
        "def tokenization(text):\n",
        "  tokens=re.split('\\s+',text)\n",
        "  return tokens\n",
        "#applying function to the column\n",
        "data['msg_tokens']=data['lower_celltext'].apply(lambda x: tokenization(x))\n",
        "data.head()\n"
      ],
      "metadata": {
        "colab": {
          "base_uri": "https://localhost:8080/",
          "height": 664
        },
        "id": "c-aKIXYh9XYm",
        "outputId": "b09cdf11-dcf5-428e-8ef2-bc33187e085b"
      },
      "execution_count": null,
      "outputs": [
        {
          "output_type": "execute_result",
          "data": {
            "text/plain": [
              "          subreddit post_id sentence_range  \\\n",
              "0              ptsd  8601tu       (15, 20)   \n",
              "1        assistance  8lbrx9         (0, 5)   \n",
              "2              ptsd  9ch1zh       (15, 20)   \n",
              "3     relationships  7rorpp        [5, 10]   \n",
              "4  survivorsofabuse  9p2gbc         [0, 5]   \n",
              "\n",
              "                                                text     id  label  \\\n",
              "0  He said he had not felt that way before, sugge...  33181      1   \n",
              "1  Hey there r/assistance, Not sure if this is th...   2606      0   \n",
              "2  My mom then hit me with the newspaper and it s...  38816      1   \n",
              "3  until i met my new boyfriend, he is amazing, h...    239      1   \n",
              "4  October is Domestic Violence Awareness Month a...   1421      1   \n",
              "\n",
              "   confidence  social_timestamp  social_karma  syntax_ari  ...  \\\n",
              "0         0.8        1521614353             5    1.806818  ...   \n",
              "1         1.0        1527009817             4    9.429737  ...   \n",
              "2         0.8        1535935605             2    7.769821  ...   \n",
              "3         0.6        1516429555             0    2.667798  ...   \n",
              "4         0.8        1539809005            24    7.554238  ...   \n",
              "\n",
              "   lex_dal_avg_activation  lex_dal_avg_imagery  lex_dal_avg_pleasantness  \\\n",
              "0                 1.77000              1.52211                   1.89556   \n",
              "1                 1.69586              1.62045                   1.88919   \n",
              "2                 1.83088              1.58108                   1.85828   \n",
              "3                 1.75356              1.52114                   1.98848   \n",
              "4                 1.77644              1.64872                   1.81456   \n",
              "\n",
              "   social_upvote_ratio  social_num_comments  syntax_fk_grade  sentiment  \\\n",
              "0                 0.86                    1         3.253573  -0.002742   \n",
              "1                 0.65                    2         8.828316   0.292857   \n",
              "2                 0.67                    0         7.841667   0.011894   \n",
              "3                 0.50                    5         4.104027   0.141671   \n",
              "4                 1.00                    1         7.910952  -0.204167   \n",
              "\n",
              "                                           punc_free  \\\n",
              "0  He said he had not felt that way before sugget...   \n",
              "1  Hey there rassistance Not sure if this is the ...   \n",
              "2  My mom then hit me with the newspaper and it s...   \n",
              "3  until i met my new boyfriend he is amazing he ...   \n",
              "4  October is Domestic Violence Awareness Month a...   \n",
              "\n",
              "                                      lower_celltext  \\\n",
              "0  he said he had not felt that way before sugget...   \n",
              "1  hey there rassistance not sure if this is the ...   \n",
              "2  my mom then hit me with the newspaper and it s...   \n",
              "3  until i met my new boyfriend he is amazing he ...   \n",
              "4  october is domestic violence awareness month a...   \n",
              "\n",
              "                                          msg_tokens  \n",
              "0  [he, said, he, had, not, felt, that, way, befo...  \n",
              "1  [hey, there, rassistance, not, sure, if, this,...  \n",
              "2  [my, mom, then, hit, me, with, the, newspaper,...  \n",
              "3  [until, i, met, my, new, boyfriend, he, is, am...  \n",
              "4  [october, is, domestic, violence, awareness, m...  \n",
              "\n",
              "[5 rows x 119 columns]"
            ],
            "text/html": [
              "\n",
              "  <div id=\"df-2a5611cb-4667-402c-acab-c0aa8c941ad2\">\n",
              "    <div class=\"colab-df-container\">\n",
              "      <div>\n",
              "<style scoped>\n",
              "    .dataframe tbody tr th:only-of-type {\n",
              "        vertical-align: middle;\n",
              "    }\n",
              "\n",
              "    .dataframe tbody tr th {\n",
              "        vertical-align: top;\n",
              "    }\n",
              "\n",
              "    .dataframe thead th {\n",
              "        text-align: right;\n",
              "    }\n",
              "</style>\n",
              "<table border=\"1\" class=\"dataframe\">\n",
              "  <thead>\n",
              "    <tr style=\"text-align: right;\">\n",
              "      <th></th>\n",
              "      <th>subreddit</th>\n",
              "      <th>post_id</th>\n",
              "      <th>sentence_range</th>\n",
              "      <th>text</th>\n",
              "      <th>id</th>\n",
              "      <th>label</th>\n",
              "      <th>confidence</th>\n",
              "      <th>social_timestamp</th>\n",
              "      <th>social_karma</th>\n",
              "      <th>syntax_ari</th>\n",
              "      <th>...</th>\n",
              "      <th>lex_dal_avg_activation</th>\n",
              "      <th>lex_dal_avg_imagery</th>\n",
              "      <th>lex_dal_avg_pleasantness</th>\n",
              "      <th>social_upvote_ratio</th>\n",
              "      <th>social_num_comments</th>\n",
              "      <th>syntax_fk_grade</th>\n",
              "      <th>sentiment</th>\n",
              "      <th>punc_free</th>\n",
              "      <th>lower_celltext</th>\n",
              "      <th>msg_tokens</th>\n",
              "    </tr>\n",
              "  </thead>\n",
              "  <tbody>\n",
              "    <tr>\n",
              "      <th>0</th>\n",
              "      <td>ptsd</td>\n",
              "      <td>8601tu</td>\n",
              "      <td>(15, 20)</td>\n",
              "      <td>He said he had not felt that way before, sugge...</td>\n",
              "      <td>33181</td>\n",
              "      <td>1</td>\n",
              "      <td>0.8</td>\n",
              "      <td>1521614353</td>\n",
              "      <td>5</td>\n",
              "      <td>1.806818</td>\n",
              "      <td>...</td>\n",
              "      <td>1.77000</td>\n",
              "      <td>1.52211</td>\n",
              "      <td>1.89556</td>\n",
              "      <td>0.86</td>\n",
              "      <td>1</td>\n",
              "      <td>3.253573</td>\n",
              "      <td>-0.002742</td>\n",
              "      <td>He said he had not felt that way before sugget...</td>\n",
              "      <td>he said he had not felt that way before sugget...</td>\n",
              "      <td>[he, said, he, had, not, felt, that, way, befo...</td>\n",
              "    </tr>\n",
              "    <tr>\n",
              "      <th>1</th>\n",
              "      <td>assistance</td>\n",
              "      <td>8lbrx9</td>\n",
              "      <td>(0, 5)</td>\n",
              "      <td>Hey there r/assistance, Not sure if this is th...</td>\n",
              "      <td>2606</td>\n",
              "      <td>0</td>\n",
              "      <td>1.0</td>\n",
              "      <td>1527009817</td>\n",
              "      <td>4</td>\n",
              "      <td>9.429737</td>\n",
              "      <td>...</td>\n",
              "      <td>1.69586</td>\n",
              "      <td>1.62045</td>\n",
              "      <td>1.88919</td>\n",
              "      <td>0.65</td>\n",
              "      <td>2</td>\n",
              "      <td>8.828316</td>\n",
              "      <td>0.292857</td>\n",
              "      <td>Hey there rassistance Not sure if this is the ...</td>\n",
              "      <td>hey there rassistance not sure if this is the ...</td>\n",
              "      <td>[hey, there, rassistance, not, sure, if, this,...</td>\n",
              "    </tr>\n",
              "    <tr>\n",
              "      <th>2</th>\n",
              "      <td>ptsd</td>\n",
              "      <td>9ch1zh</td>\n",
              "      <td>(15, 20)</td>\n",
              "      <td>My mom then hit me with the newspaper and it s...</td>\n",
              "      <td>38816</td>\n",
              "      <td>1</td>\n",
              "      <td>0.8</td>\n",
              "      <td>1535935605</td>\n",
              "      <td>2</td>\n",
              "      <td>7.769821</td>\n",
              "      <td>...</td>\n",
              "      <td>1.83088</td>\n",
              "      <td>1.58108</td>\n",
              "      <td>1.85828</td>\n",
              "      <td>0.67</td>\n",
              "      <td>0</td>\n",
              "      <td>7.841667</td>\n",
              "      <td>0.011894</td>\n",
              "      <td>My mom then hit me with the newspaper and it s...</td>\n",
              "      <td>my mom then hit me with the newspaper and it s...</td>\n",
              "      <td>[my, mom, then, hit, me, with, the, newspaper,...</td>\n",
              "    </tr>\n",
              "    <tr>\n",
              "      <th>3</th>\n",
              "      <td>relationships</td>\n",
              "      <td>7rorpp</td>\n",
              "      <td>[5, 10]</td>\n",
              "      <td>until i met my new boyfriend, he is amazing, h...</td>\n",
              "      <td>239</td>\n",
              "      <td>1</td>\n",
              "      <td>0.6</td>\n",
              "      <td>1516429555</td>\n",
              "      <td>0</td>\n",
              "      <td>2.667798</td>\n",
              "      <td>...</td>\n",
              "      <td>1.75356</td>\n",
              "      <td>1.52114</td>\n",
              "      <td>1.98848</td>\n",
              "      <td>0.50</td>\n",
              "      <td>5</td>\n",
              "      <td>4.104027</td>\n",
              "      <td>0.141671</td>\n",
              "      <td>until i met my new boyfriend he is amazing he ...</td>\n",
              "      <td>until i met my new boyfriend he is amazing he ...</td>\n",
              "      <td>[until, i, met, my, new, boyfriend, he, is, am...</td>\n",
              "    </tr>\n",
              "    <tr>\n",
              "      <th>4</th>\n",
              "      <td>survivorsofabuse</td>\n",
              "      <td>9p2gbc</td>\n",
              "      <td>[0, 5]</td>\n",
              "      <td>October is Domestic Violence Awareness Month a...</td>\n",
              "      <td>1421</td>\n",
              "      <td>1</td>\n",
              "      <td>0.8</td>\n",
              "      <td>1539809005</td>\n",
              "      <td>24</td>\n",
              "      <td>7.554238</td>\n",
              "      <td>...</td>\n",
              "      <td>1.77644</td>\n",
              "      <td>1.64872</td>\n",
              "      <td>1.81456</td>\n",
              "      <td>1.00</td>\n",
              "      <td>1</td>\n",
              "      <td>7.910952</td>\n",
              "      <td>-0.204167</td>\n",
              "      <td>October is Domestic Violence Awareness Month a...</td>\n",
              "      <td>october is domestic violence awareness month a...</td>\n",
              "      <td>[october, is, domestic, violence, awareness, m...</td>\n",
              "    </tr>\n",
              "  </tbody>\n",
              "</table>\n",
              "<p>5 rows × 119 columns</p>\n",
              "</div>\n",
              "      <button class=\"colab-df-convert\" onclick=\"convertToInteractive('df-2a5611cb-4667-402c-acab-c0aa8c941ad2')\"\n",
              "              title=\"Convert this dataframe to an interactive table.\"\n",
              "              style=\"display:none;\">\n",
              "        \n",
              "  <svg xmlns=\"http://www.w3.org/2000/svg\" height=\"24px\"viewBox=\"0 0 24 24\"\n",
              "       width=\"24px\">\n",
              "    <path d=\"M0 0h24v24H0V0z\" fill=\"none\"/>\n",
              "    <path d=\"M18.56 5.44l.94 2.06.94-2.06 2.06-.94-2.06-.94-.94-2.06-.94 2.06-2.06.94zm-11 1L8.5 8.5l.94-2.06 2.06-.94-2.06-.94L8.5 2.5l-.94 2.06-2.06.94zm10 10l.94 2.06.94-2.06 2.06-.94-2.06-.94-.94-2.06-.94 2.06-2.06.94z\"/><path d=\"M17.41 7.96l-1.37-1.37c-.4-.4-.92-.59-1.43-.59-.52 0-1.04.2-1.43.59L10.3 9.45l-7.72 7.72c-.78.78-.78 2.05 0 2.83L4 21.41c.39.39.9.59 1.41.59.51 0 1.02-.2 1.41-.59l7.78-7.78 2.81-2.81c.8-.78.8-2.07 0-2.86zM5.41 20L4 18.59l7.72-7.72 1.47 1.35L5.41 20z\"/>\n",
              "  </svg>\n",
              "      </button>\n",
              "      \n",
              "  <style>\n",
              "    .colab-df-container {\n",
              "      display:flex;\n",
              "      flex-wrap:wrap;\n",
              "      gap: 12px;\n",
              "    }\n",
              "\n",
              "    .colab-df-convert {\n",
              "      background-color: #E8F0FE;\n",
              "      border: none;\n",
              "      border-radius: 50%;\n",
              "      cursor: pointer;\n",
              "      display: none;\n",
              "      fill: #1967D2;\n",
              "      height: 32px;\n",
              "      padding: 0 0 0 0;\n",
              "      width: 32px;\n",
              "    }\n",
              "\n",
              "    .colab-df-convert:hover {\n",
              "      background-color: #E2EBFA;\n",
              "      box-shadow: 0px 1px 2px rgba(60, 64, 67, 0.3), 0px 1px 3px 1px rgba(60, 64, 67, 0.15);\n",
              "      fill: #174EA6;\n",
              "    }\n",
              "\n",
              "    [theme=dark] .colab-df-convert {\n",
              "      background-color: #3B4455;\n",
              "      fill: #D2E3FC;\n",
              "    }\n",
              "\n",
              "    [theme=dark] .colab-df-convert:hover {\n",
              "      background-color: #434B5C;\n",
              "      box-shadow: 0px 1px 3px 1px rgba(0, 0, 0, 0.15);\n",
              "      filter: drop-shadow(0px 1px 2px rgba(0, 0, 0, 0.3));\n",
              "      fill: #FFFFFF;\n",
              "    }\n",
              "  </style>\n",
              "\n",
              "      <script>\n",
              "        const buttonEl =\n",
              "          document.querySelector('#df-2a5611cb-4667-402c-acab-c0aa8c941ad2 button.colab-df-convert');\n",
              "        buttonEl.style.display =\n",
              "          google.colab.kernel.accessAllowed ? 'block' : 'none';\n",
              "\n",
              "        async function convertToInteractive(key) {\n",
              "          const element = document.querySelector('#df-2a5611cb-4667-402c-acab-c0aa8c941ad2');\n",
              "          const dataTable =\n",
              "            await google.colab.kernel.invokeFunction('convertToInteractive',\n",
              "                                                     [key], {});\n",
              "          if (!dataTable) return;\n",
              "\n",
              "          const docLinkHtml = 'Like what you see? Visit the ' +\n",
              "            '<a target=\"_blank\" href=https://colab.research.google.com/notebooks/data_table.ipynb>data table notebook</a>'\n",
              "            + ' to learn more about interactive tables.';\n",
              "          element.innerHTML = '';\n",
              "          dataTable['output_type'] = 'display_data';\n",
              "          await google.colab.output.renderOutput(dataTable, element);\n",
              "          const docLink = document.createElement('div');\n",
              "          docLink.innerHTML = docLinkHtml;\n",
              "          element.appendChild(docLink);\n",
              "        }\n",
              "      </script>\n",
              "    </div>\n",
              "  </div>\n",
              "  "
            ]
          },
          "metadata": {},
          "execution_count": 13
        }
      ]
    },
    {
      "cell_type": "markdown",
      "source": [
        "STOPWORD REMOVAL"
      ],
      "metadata": {
        "id": "pHhLkp7R-kVr"
      }
    },
    {
      "cell_type": "code",
      "source": [
        "nltk.download('stopwords')\n",
        "from nltk.corpus import stopwords\n",
        "print(stopwords.words('english'))"
      ],
      "metadata": {
        "colab": {
          "base_uri": "https://localhost:8080/"
        },
        "id": "agTJ_hEx-e-r",
        "outputId": "7a81f1c7-defe-44a4-ca28-90dc42138b3f"
      },
      "execution_count": null,
      "outputs": [
        {
          "output_type": "stream",
          "name": "stdout",
          "text": [
            "['i', 'me', 'my', 'myself', 'we', 'our', 'ours', 'ourselves', 'you', \"you're\", \"you've\", \"you'll\", \"you'd\", 'your', 'yours', 'yourself', 'yourselves', 'he', 'him', 'his', 'himself', 'she', \"she's\", 'her', 'hers', 'herself', 'it', \"it's\", 'its', 'itself', 'they', 'them', 'their', 'theirs', 'themselves', 'what', 'which', 'who', 'whom', 'this', 'that', \"that'll\", 'these', 'those', 'am', 'is', 'are', 'was', 'were', 'be', 'been', 'being', 'have', 'has', 'had', 'having', 'do', 'does', 'did', 'doing', 'a', 'an', 'the', 'and', 'but', 'if', 'or', 'because', 'as', 'until', 'while', 'of', 'at', 'by', 'for', 'with', 'about', 'against', 'between', 'into', 'through', 'during', 'before', 'after', 'above', 'below', 'to', 'from', 'up', 'down', 'in', 'out', 'on', 'off', 'over', 'under', 'again', 'further', 'then', 'once', 'here', 'there', 'when', 'where', 'why', 'how', 'all', 'any', 'both', 'each', 'few', 'more', 'most', 'other', 'some', 'such', 'no', 'nor', 'not', 'only', 'own', 'same', 'so', 'than', 'too', 'very', 's', 't', 'can', 'will', 'just', 'don', \"don't\", 'should', \"should've\", 'now', 'd', 'll', 'm', 'o', 're', 've', 'y', 'ain', 'aren', \"aren't\", 'couldn', \"couldn't\", 'didn', \"didn't\", 'doesn', \"doesn't\", 'hadn', \"hadn't\", 'hasn', \"hasn't\", 'haven', \"haven't\", 'isn', \"isn't\", 'ma', 'mightn', \"mightn't\", 'mustn', \"mustn't\", 'needn', \"needn't\", 'shan', \"shan't\", 'shouldn', \"shouldn't\", 'wasn', \"wasn't\", 'weren', \"weren't\", 'won', \"won't\", 'wouldn', \"wouldn't\"]\n"
          ]
        },
        {
          "output_type": "stream",
          "name": "stderr",
          "text": [
            "[nltk_data] Downloading package stopwords to /root/nltk_data...\n",
            "[nltk_data]   Unzipping corpora/stopwords.zip.\n"
          ]
        }
      ]
    },
    {
      "cell_type": "code",
      "source": [
        "def remove_stopwords(celltext):\n",
        "  strem=[i for i in celltext if i not in stopwords.words('english')]\n",
        "  return strem"
      ],
      "metadata": {
        "id": "bI8D9cMf-zF3"
      },
      "execution_count": null,
      "outputs": []
    },
    {
      "cell_type": "code",
      "source": [
        "data['stopwords_free']=data['msg_tokens'].apply(lambda x: remove_stopwords(x))\n",
        "data['stopwords_free'].head()"
      ],
      "metadata": {
        "colab": {
          "base_uri": "https://localhost:8080/"
        },
        "id": "Y69ncWqQ_CA9",
        "outputId": "0f05b4e2-2de0-40e0-858f-1f361bee7bf8"
      },
      "execution_count": null,
      "outputs": [
        {
          "output_type": "execute_result",
          "data": {
            "text/plain": [
              "0    [said, felt, way, suggeted, go, rest, trigger,...\n",
              "1    [hey, rassistance, sure, right, place, post, g...\n",
              "2    [mom, hit, newspaper, shocked, would, knows, d...\n",
              "3    [met, new, boyfriend, amazing, kind, sweet, go...\n",
              "4    [october, domestic, violence, awareness, month...\n",
              "Name: stopwords_free, dtype: object"
            ]
          },
          "metadata": {},
          "execution_count": 16
        }
      ]
    },
    {
      "cell_type": "markdown",
      "source": [
        "STEMMING THE DATA ie. Removing and replacing suffixes of words to get root form of the word"
      ],
      "metadata": {
        "id": "iGMAHsyo_8lC"
      }
    },
    {
      "cell_type": "code",
      "source": [
        "from nltk.stem.porter import PorterStemmer\n",
        "porterstemmer=PorterStemmer()"
      ],
      "metadata": {
        "id": "UitdwABBAcER"
      },
      "execution_count": null,
      "outputs": []
    },
    {
      "cell_type": "code",
      "source": [
        "def cellstemming(celltext):\n",
        "  stem_celltext=[porterstemmer.stem(word) for word in celltext]\n",
        "  return stem_celltext"
      ],
      "metadata": {
        "id": "xkaM_XGGAljK"
      },
      "execution_count": null,
      "outputs": []
    },
    {
      "cell_type": "code",
      "source": [
        "#function call for stemming\n",
        "data['stem_texts']=data['stopwords_free'].apply(lambda x:cellstemming(x))\n",
        "data['stem_texts'].head()"
      ],
      "metadata": {
        "colab": {
          "base_uri": "https://localhost:8080/"
        },
        "id": "cyrAYUicAx1M",
        "outputId": "f32058ee-00ea-48f3-d43a-80dfb3baf260"
      },
      "execution_count": null,
      "outputs": [
        {
          "output_type": "execute_result",
          "data": {
            "text/plain": [
              "0    [said, felt, way, sugget, go, rest, trigger, a...\n",
              "1    [hey, rassist, sure, right, place, post, goe, ...\n",
              "2    [mom, hit, newspap, shock, would, know, dont, ...\n",
              "3    [met, new, boyfriend, amaz, kind, sweet, good,...\n",
              "4    [octob, domest, violenc, awar, month, domest, ...\n",
              "Name: stem_texts, dtype: object"
            ]
          },
          "metadata": {},
          "execution_count": 19
        }
      ]
    },
    {
      "cell_type": "markdown",
      "source": [
        "LEMMATIZATION - Converting to base form (combining all inflected forms of the word to get a single term)"
      ],
      "metadata": {
        "id": "wJAflpndBMLS"
      }
    },
    {
      "cell_type": "code",
      "source": [
        "from nltk.stem import WordNetLemmatizer\n",
        "nltk.download('wordnet')\n",
        "nltk.download('omw-1.4')"
      ],
      "metadata": {
        "colab": {
          "base_uri": "https://localhost:8080/"
        },
        "id": "V-6-1oAgBTFU",
        "outputId": "090b96e6-fb7a-45d4-f0e2-a89150d3120f"
      },
      "execution_count": null,
      "outputs": [
        {
          "output_type": "stream",
          "name": "stderr",
          "text": [
            "[nltk_data] Downloading package wordnet to /root/nltk_data...\n",
            "[nltk_data] Downloading package omw-1.4 to /root/nltk_data...\n"
          ]
        },
        {
          "output_type": "execute_result",
          "data": {
            "text/plain": [
              "True"
            ]
          },
          "metadata": {},
          "execution_count": 20
        }
      ]
    },
    {
      "cell_type": "code",
      "source": [
        "wordnet_lemma=WordNetLemmatizer()\n",
        "def lemmatizer(celltext):\n",
        "  lemm_text=[wordnet_lemma.lemmatize(word) for word in celltext]\n",
        "  return lemm_text"
      ],
      "metadata": {
        "id": "8hADfQn8B1TT"
      },
      "execution_count": null,
      "outputs": []
    },
    {
      "cell_type": "code",
      "source": [
        "data['lemmatized_celltext']=data['stopwords_free'].apply(lambda x:lemmatizer(x))\n",
        "data['lemmatized_celltext'].head()"
      ],
      "metadata": {
        "colab": {
          "base_uri": "https://localhost:8080/"
        },
        "id": "nrdKUSmdBr3J",
        "outputId": "55690a4c-afaf-43b7-f878-1bffc31ef0d3"
      },
      "execution_count": null,
      "outputs": [
        {
          "output_type": "execute_result",
          "data": {
            "text/plain": [
              "0    [said, felt, way, suggeted, go, rest, trigger,...\n",
              "1    [hey, rassistance, sure, right, place, post, g...\n",
              "2    [mom, hit, newspaper, shocked, would, know, do...\n",
              "3    [met, new, boyfriend, amazing, kind, sweet, go...\n",
              "4    [october, domestic, violence, awareness, month...\n",
              "Name: lemmatized_celltext, dtype: object"
            ]
          },
          "metadata": {},
          "execution_count": 22
        }
      ]
    },
    {
      "cell_type": "markdown",
      "source": [
        "OUTPUT AFTER PRE-PROCESSING STAGE"
      ],
      "metadata": {
        "id": "NM6-TPpyDKOg"
      }
    },
    {
      "cell_type": "code",
      "source": [
        "data[['text','punc_free','lower_celltext','msg_tokens','stopwords_free','stem_texts','lemmatized_celltext']].head()"
      ],
      "metadata": {
        "colab": {
          "base_uri": "https://localhost:8080/",
          "height": 458
        },
        "id": "fcoyCT4tDHPh",
        "outputId": "8c1c32e8-5a82-4d50-e9aa-f38c72283b4a"
      },
      "execution_count": null,
      "outputs": [
        {
          "output_type": "execute_result",
          "data": {
            "text/plain": [
              "                                                text  \\\n",
              "0  He said he had not felt that way before, sugge...   \n",
              "1  Hey there r/assistance, Not sure if this is th...   \n",
              "2  My mom then hit me with the newspaper and it s...   \n",
              "3  until i met my new boyfriend, he is amazing, h...   \n",
              "4  October is Domestic Violence Awareness Month a...   \n",
              "\n",
              "                                           punc_free  \\\n",
              "0  He said he had not felt that way before sugget...   \n",
              "1  Hey there rassistance Not sure if this is the ...   \n",
              "2  My mom then hit me with the newspaper and it s...   \n",
              "3  until i met my new boyfriend he is amazing he ...   \n",
              "4  October is Domestic Violence Awareness Month a...   \n",
              "\n",
              "                                      lower_celltext  \\\n",
              "0  he said he had not felt that way before sugget...   \n",
              "1  hey there rassistance not sure if this is the ...   \n",
              "2  my mom then hit me with the newspaper and it s...   \n",
              "3  until i met my new boyfriend he is amazing he ...   \n",
              "4  october is domestic violence awareness month a...   \n",
              "\n",
              "                                          msg_tokens  \\\n",
              "0  [he, said, he, had, not, felt, that, way, befo...   \n",
              "1  [hey, there, rassistance, not, sure, if, this,...   \n",
              "2  [my, mom, then, hit, me, with, the, newspaper,...   \n",
              "3  [until, i, met, my, new, boyfriend, he, is, am...   \n",
              "4  [october, is, domestic, violence, awareness, m...   \n",
              "\n",
              "                                      stopwords_free  \\\n",
              "0  [said, felt, way, suggeted, go, rest, trigger,...   \n",
              "1  [hey, rassistance, sure, right, place, post, g...   \n",
              "2  [mom, hit, newspaper, shocked, would, knows, d...   \n",
              "3  [met, new, boyfriend, amazing, kind, sweet, go...   \n",
              "4  [october, domestic, violence, awareness, month...   \n",
              "\n",
              "                                          stem_texts  \\\n",
              "0  [said, felt, way, sugget, go, rest, trigger, a...   \n",
              "1  [hey, rassist, sure, right, place, post, goe, ...   \n",
              "2  [mom, hit, newspap, shock, would, know, dont, ...   \n",
              "3  [met, new, boyfriend, amaz, kind, sweet, good,...   \n",
              "4  [octob, domest, violenc, awar, month, domest, ...   \n",
              "\n",
              "                                 lemmatized_celltext  \n",
              "0  [said, felt, way, suggeted, go, rest, trigger,...  \n",
              "1  [hey, rassistance, sure, right, place, post, g...  \n",
              "2  [mom, hit, newspaper, shocked, would, know, do...  \n",
              "3  [met, new, boyfriend, amazing, kind, sweet, go...  \n",
              "4  [october, domestic, violence, awareness, month...  "
            ],
            "text/html": [
              "\n",
              "  <div id=\"df-c6683e70-ec7e-4b1e-af21-22f8c7767fa4\">\n",
              "    <div class=\"colab-df-container\">\n",
              "      <div>\n",
              "<style scoped>\n",
              "    .dataframe tbody tr th:only-of-type {\n",
              "        vertical-align: middle;\n",
              "    }\n",
              "\n",
              "    .dataframe tbody tr th {\n",
              "        vertical-align: top;\n",
              "    }\n",
              "\n",
              "    .dataframe thead th {\n",
              "        text-align: right;\n",
              "    }\n",
              "</style>\n",
              "<table border=\"1\" class=\"dataframe\">\n",
              "  <thead>\n",
              "    <tr style=\"text-align: right;\">\n",
              "      <th></th>\n",
              "      <th>text</th>\n",
              "      <th>punc_free</th>\n",
              "      <th>lower_celltext</th>\n",
              "      <th>msg_tokens</th>\n",
              "      <th>stopwords_free</th>\n",
              "      <th>stem_texts</th>\n",
              "      <th>lemmatized_celltext</th>\n",
              "    </tr>\n",
              "  </thead>\n",
              "  <tbody>\n",
              "    <tr>\n",
              "      <th>0</th>\n",
              "      <td>He said he had not felt that way before, sugge...</td>\n",
              "      <td>He said he had not felt that way before sugget...</td>\n",
              "      <td>he said he had not felt that way before sugget...</td>\n",
              "      <td>[he, said, he, had, not, felt, that, way, befo...</td>\n",
              "      <td>[said, felt, way, suggeted, go, rest, trigger,...</td>\n",
              "      <td>[said, felt, way, sugget, go, rest, trigger, a...</td>\n",
              "      <td>[said, felt, way, suggeted, go, rest, trigger,...</td>\n",
              "    </tr>\n",
              "    <tr>\n",
              "      <th>1</th>\n",
              "      <td>Hey there r/assistance, Not sure if this is th...</td>\n",
              "      <td>Hey there rassistance Not sure if this is the ...</td>\n",
              "      <td>hey there rassistance not sure if this is the ...</td>\n",
              "      <td>[hey, there, rassistance, not, sure, if, this,...</td>\n",
              "      <td>[hey, rassistance, sure, right, place, post, g...</td>\n",
              "      <td>[hey, rassist, sure, right, place, post, goe, ...</td>\n",
              "      <td>[hey, rassistance, sure, right, place, post, g...</td>\n",
              "    </tr>\n",
              "    <tr>\n",
              "      <th>2</th>\n",
              "      <td>My mom then hit me with the newspaper and it s...</td>\n",
              "      <td>My mom then hit me with the newspaper and it s...</td>\n",
              "      <td>my mom then hit me with the newspaper and it s...</td>\n",
              "      <td>[my, mom, then, hit, me, with, the, newspaper,...</td>\n",
              "      <td>[mom, hit, newspaper, shocked, would, knows, d...</td>\n",
              "      <td>[mom, hit, newspap, shock, would, know, dont, ...</td>\n",
              "      <td>[mom, hit, newspaper, shocked, would, know, do...</td>\n",
              "    </tr>\n",
              "    <tr>\n",
              "      <th>3</th>\n",
              "      <td>until i met my new boyfriend, he is amazing, h...</td>\n",
              "      <td>until i met my new boyfriend he is amazing he ...</td>\n",
              "      <td>until i met my new boyfriend he is amazing he ...</td>\n",
              "      <td>[until, i, met, my, new, boyfriend, he, is, am...</td>\n",
              "      <td>[met, new, boyfriend, amazing, kind, sweet, go...</td>\n",
              "      <td>[met, new, boyfriend, amaz, kind, sweet, good,...</td>\n",
              "      <td>[met, new, boyfriend, amazing, kind, sweet, go...</td>\n",
              "    </tr>\n",
              "    <tr>\n",
              "      <th>4</th>\n",
              "      <td>October is Domestic Violence Awareness Month a...</td>\n",
              "      <td>October is Domestic Violence Awareness Month a...</td>\n",
              "      <td>october is domestic violence awareness month a...</td>\n",
              "      <td>[october, is, domestic, violence, awareness, m...</td>\n",
              "      <td>[october, domestic, violence, awareness, month...</td>\n",
              "      <td>[octob, domest, violenc, awar, month, domest, ...</td>\n",
              "      <td>[october, domestic, violence, awareness, month...</td>\n",
              "    </tr>\n",
              "  </tbody>\n",
              "</table>\n",
              "</div>\n",
              "      <button class=\"colab-df-convert\" onclick=\"convertToInteractive('df-c6683e70-ec7e-4b1e-af21-22f8c7767fa4')\"\n",
              "              title=\"Convert this dataframe to an interactive table.\"\n",
              "              style=\"display:none;\">\n",
              "        \n",
              "  <svg xmlns=\"http://www.w3.org/2000/svg\" height=\"24px\"viewBox=\"0 0 24 24\"\n",
              "       width=\"24px\">\n",
              "    <path d=\"M0 0h24v24H0V0z\" fill=\"none\"/>\n",
              "    <path d=\"M18.56 5.44l.94 2.06.94-2.06 2.06-.94-2.06-.94-.94-2.06-.94 2.06-2.06.94zm-11 1L8.5 8.5l.94-2.06 2.06-.94-2.06-.94L8.5 2.5l-.94 2.06-2.06.94zm10 10l.94 2.06.94-2.06 2.06-.94-2.06-.94-.94-2.06-.94 2.06-2.06.94z\"/><path d=\"M17.41 7.96l-1.37-1.37c-.4-.4-.92-.59-1.43-.59-.52 0-1.04.2-1.43.59L10.3 9.45l-7.72 7.72c-.78.78-.78 2.05 0 2.83L4 21.41c.39.39.9.59 1.41.59.51 0 1.02-.2 1.41-.59l7.78-7.78 2.81-2.81c.8-.78.8-2.07 0-2.86zM5.41 20L4 18.59l7.72-7.72 1.47 1.35L5.41 20z\"/>\n",
              "  </svg>\n",
              "      </button>\n",
              "      \n",
              "  <style>\n",
              "    .colab-df-container {\n",
              "      display:flex;\n",
              "      flex-wrap:wrap;\n",
              "      gap: 12px;\n",
              "    }\n",
              "\n",
              "    .colab-df-convert {\n",
              "      background-color: #E8F0FE;\n",
              "      border: none;\n",
              "      border-radius: 50%;\n",
              "      cursor: pointer;\n",
              "      display: none;\n",
              "      fill: #1967D2;\n",
              "      height: 32px;\n",
              "      padding: 0 0 0 0;\n",
              "      width: 32px;\n",
              "    }\n",
              "\n",
              "    .colab-df-convert:hover {\n",
              "      background-color: #E2EBFA;\n",
              "      box-shadow: 0px 1px 2px rgba(60, 64, 67, 0.3), 0px 1px 3px 1px rgba(60, 64, 67, 0.15);\n",
              "      fill: #174EA6;\n",
              "    }\n",
              "\n",
              "    [theme=dark] .colab-df-convert {\n",
              "      background-color: #3B4455;\n",
              "      fill: #D2E3FC;\n",
              "    }\n",
              "\n",
              "    [theme=dark] .colab-df-convert:hover {\n",
              "      background-color: #434B5C;\n",
              "      box-shadow: 0px 1px 3px 1px rgba(0, 0, 0, 0.15);\n",
              "      filter: drop-shadow(0px 1px 2px rgba(0, 0, 0, 0.3));\n",
              "      fill: #FFFFFF;\n",
              "    }\n",
              "  </style>\n",
              "\n",
              "      <script>\n",
              "        const buttonEl =\n",
              "          document.querySelector('#df-c6683e70-ec7e-4b1e-af21-22f8c7767fa4 button.colab-df-convert');\n",
              "        buttonEl.style.display =\n",
              "          google.colab.kernel.accessAllowed ? 'block' : 'none';\n",
              "\n",
              "        async function convertToInteractive(key) {\n",
              "          const element = document.querySelector('#df-c6683e70-ec7e-4b1e-af21-22f8c7767fa4');\n",
              "          const dataTable =\n",
              "            await google.colab.kernel.invokeFunction('convertToInteractive',\n",
              "                                                     [key], {});\n",
              "          if (!dataTable) return;\n",
              "\n",
              "          const docLinkHtml = 'Like what you see? Visit the ' +\n",
              "            '<a target=\"_blank\" href=https://colab.research.google.com/notebooks/data_table.ipynb>data table notebook</a>'\n",
              "            + ' to learn more about interactive tables.';\n",
              "          element.innerHTML = '';\n",
              "          dataTable['output_type'] = 'display_data';\n",
              "          await google.colab.output.renderOutput(dataTable, element);\n",
              "          const docLink = document.createElement('div');\n",
              "          docLink.innerHTML = docLinkHtml;\n",
              "          element.appendChild(docLink);\n",
              "        }\n",
              "      </script>\n",
              "    </div>\n",
              "  </div>\n",
              "  "
            ]
          },
          "metadata": {},
          "execution_count": 23
        }
      ]
    },
    {
      "cell_type": "markdown",
      "source": [
        "Term Frequency - Inverse Document Frequency"
      ],
      "metadata": {
        "id": "UMpePJQyD3OW"
      }
    },
    {
      "cell_type": "code",
      "source": [
        "from sklearn.feature_extraction.text import CountVectorizer\n",
        "from sklearn.feature_extraction.text import TfidfTransformer\n",
        "from sklearn.feature_extraction.text import TfidfVectorizer"
      ],
      "metadata": {
        "id": "74yi_bMqDzX-"
      },
      "execution_count": null,
      "outputs": []
    },
    {
      "cell_type": "code",
      "source": [
        "def lemjoin(celltext):\n",
        "  lem_join=['.'.join(celltext)]\n",
        "  return lem_join"
      ],
      "metadata": {
        "id": "ADG826HqExBW"
      },
      "execution_count": null,
      "outputs": []
    },
    {
      "cell_type": "code",
      "source": [
        "data['lemmatized_join']=data['lemmatized_celltext'].apply(lambda x:lemjoin(x))\n",
        "data['lemmatized_join'].head()"
      ],
      "metadata": {
        "colab": {
          "base_uri": "https://localhost:8080/"
        },
        "id": "0q4YPrPUE9I3",
        "outputId": "7f850c34-93da-4ddb-e29e-e21fab127a18"
      },
      "execution_count": null,
      "outputs": [
        {
          "output_type": "execute_result",
          "data": {
            "text/plain": [
              "0    [said.felt.way.suggeted.go.rest.trigger.ahead....\n",
              "1    [hey.rassistance.sure.right.place.post.go.im.c...\n",
              "2    [mom.hit.newspaper.shocked.would.know.dont.lik...\n",
              "3    [met.new.boyfriend.amazing.kind.sweet.good.stu...\n",
              "4    [october.domestic.violence.awareness.month.dom...\n",
              "Name: lemmatized_join, dtype: object"
            ]
          },
          "metadata": {},
          "execution_count": 26
        }
      ]
    },
    {
      "cell_type": "markdown",
      "source": [
        "PRE-PROCESSING THE TEST DATA"
      ],
      "metadata": {
        "id": "EgSL6hYwHN4R"
      }
    },
    {
      "cell_type": "code",
      "source": [
        "testdata=testdata[testdata.subreddit!='food_pantry']\n",
        "testdata['punc_free']=testdata['text'].apply(lambda x:punctuation_less(x))\n",
        "testdata['text'].head()"
      ],
      "metadata": {
        "id": "0Ora7DLOHQ9K",
        "colab": {
          "base_uri": "https://localhost:8080/"
        },
        "outputId": "3534a51a-1548-4faa-b68b-03567e965f7b"
      },
      "execution_count": null,
      "outputs": [
        {
          "output_type": "stream",
          "name": "stderr",
          "text": [
            "<ipython-input-27-ed113ad437e5>:2: SettingWithCopyWarning: \n",
            "A value is trying to be set on a copy of a slice from a DataFrame.\n",
            "Try using .loc[row_indexer,col_indexer] = value instead\n",
            "\n",
            "See the caveats in the documentation: https://pandas.pydata.org/pandas-docs/stable/user_guide/indexing.html#returning-a-view-versus-a-copy\n",
            "  testdata['punc_free']=testdata['text'].apply(lambda x:punctuation_less(x))\n"
          ]
        },
        {
          "output_type": "execute_result",
          "data": {
            "text/plain": [
              "0    Its like that, if you want or not.“ ME: I have...\n",
              "1    I man the front desk and my title is HR Custom...\n",
              "2    We'd be saving so much money with this new hou...\n",
              "3    My ex used to shoot back with \"Do you want me ...\n",
              "4    I haven’t said anything to him yet because I’m...\n",
              "Name: text, dtype: object"
            ]
          },
          "metadata": {},
          "execution_count": 27
        }
      ]
    },
    {
      "cell_type": "code",
      "source": [
        "testdata['punc_free'].head()"
      ],
      "metadata": {
        "colab": {
          "base_uri": "https://localhost:8080/"
        },
        "id": "PnkG8UIRFYXT",
        "outputId": "04d9f7e5-2efa-4095-f631-019b25d88bf8"
      },
      "execution_count": null,
      "outputs": [
        {
          "output_type": "execute_result",
          "data": {
            "text/plain": [
              "0    Its like that if you want or not“ ME I have no...\n",
              "1    I man the front desk and my title is HR Custom...\n",
              "2    Wed be saving so much money with this new hous...\n",
              "3    My ex used to shoot back with Do you want me t...\n",
              "4    I haven’t said anything to him yet because I’m...\n",
              "Name: punc_free, dtype: object"
            ]
          },
          "metadata": {},
          "execution_count": 28
        }
      ]
    },
    {
      "cell_type": "code",
      "source": [
        "#LOWERCASING TEST DATA\n",
        "testdata['lower_celltext']=testdata['punc_free'].apply(lambda x: x.lower())\n",
        "testdata['lower_celltext'].head()\n"
      ],
      "metadata": {
        "colab": {
          "base_uri": "https://localhost:8080/"
        },
        "id": "r1v_veYFH8tW",
        "outputId": "45cc8281-3e43-4279-d3f5-872d4c355754"
      },
      "execution_count": null,
      "outputs": [
        {
          "output_type": "execute_result",
          "data": {
            "text/plain": [
              "0    its like that if you want or not“ me i have no...\n",
              "1    i man the front desk and my title is hr custom...\n",
              "2    wed be saving so much money with this new hous...\n",
              "3    my ex used to shoot back with do you want me t...\n",
              "4    i haven’t said anything to him yet because i’m...\n",
              "Name: lower_celltext, dtype: object"
            ]
          },
          "metadata": {},
          "execution_count": 29
        }
      ]
    },
    {
      "cell_type": "code",
      "source": [
        "#TOKENIZATION\n",
        "testdata['lower_celltext']=testdata['punc_free'].apply(lambda x:x.lower())\n",
        "testdata['lower_celltext'].head()"
      ],
      "metadata": {
        "colab": {
          "base_uri": "https://localhost:8080/"
        },
        "id": "zBJU0eyhIS2k",
        "outputId": "07c1a626-e01d-45ab-c8b6-05330af1a86c"
      },
      "execution_count": null,
      "outputs": [
        {
          "output_type": "execute_result",
          "data": {
            "text/plain": [
              "0    its like that if you want or not“ me i have no...\n",
              "1    i man the front desk and my title is hr custom...\n",
              "2    wed be saving so much money with this new hous...\n",
              "3    my ex used to shoot back with do you want me t...\n",
              "4    i haven’t said anything to him yet because i’m...\n",
              "Name: lower_celltext, dtype: object"
            ]
          },
          "metadata": {},
          "execution_count": 30
        }
      ]
    },
    {
      "cell_type": "code",
      "source": [
        "#TOKENIZATION - using the already define function for tokenization\n",
        "testdata['msg_tokens']=testdata['lower_celltext'].apply(lambda x:tokenization(x))"
      ],
      "metadata": {
        "id": "lwSYC3jOIjIg"
      },
      "execution_count": null,
      "outputs": []
    },
    {
      "cell_type": "code",
      "source": [
        "#REMOVING STOPWORDS\n",
        "testdata['stopwords_free']=testdata['msg_tokens'].apply(lambda x:remove_stopwords(x))"
      ],
      "metadata": {
        "id": "_DcF4ejsJLUN"
      },
      "execution_count": null,
      "outputs": []
    },
    {
      "cell_type": "code",
      "source": [
        "#STEMMING TEST DATA\n",
        "testdata['stem_texts']=testdata['stopwords_free'].apply(lambda x:cellstemming(x))\n",
        "testdata['stem_texts'].head()"
      ],
      "metadata": {
        "colab": {
          "base_uri": "https://localhost:8080/"
        },
        "id": "J6j3jFHYJdXl",
        "outputId": "72f8c65a-216e-428c-88f0-796632bf2a3c"
      },
      "execution_count": null,
      "outputs": [
        {
          "output_type": "execute_result",
          "data": {
            "text/plain": [
              "0    [like, want, not“, problem, take, longer, ask,...\n",
              "1    [man, front, desk, titl, hr, custom, servic, r...\n",
              "2    [wed, save, much, money, new, housrit, expens,...\n",
              "3    [ex, use, shoot, back, want, go, time, matter,...\n",
              "4    [haven’t, said, anyth, yet, i’m, sure, someon,...\n",
              "Name: stem_texts, dtype: object"
            ]
          },
          "metadata": {},
          "execution_count": 33
        }
      ]
    },
    {
      "cell_type": "code",
      "source": [
        "#LEMMATIZATION OF TEST DATA\n",
        "from nltk.stem import WordNetLemmatizer\n"
      ],
      "metadata": {
        "id": "4djZKmTgJwwj"
      },
      "execution_count": null,
      "outputs": []
    },
    {
      "cell_type": "code",
      "source": [
        "testdata['lemmatized_celltext']=testdata['stopwords_free'].apply(lambda x:lemmatizer(x))\n",
        "testdata['lemmatized_celltext'].head()"
      ],
      "metadata": {
        "id": "GLUM7JJ2RozQ",
        "colab": {
          "base_uri": "https://localhost:8080/"
        },
        "outputId": "3543ed22-fe28-423b-a28f-17c6a9d1e091"
      },
      "execution_count": null,
      "outputs": [
        {
          "output_type": "execute_result",
          "data": {
            "text/plain": [
              "0    [like, want, not“, problem, take, longer, aske...\n",
              "1    [man, front, desk, title, hr, customer, servic...\n",
              "2    [wed, saving, much, money, new, housrits, expe...\n",
              "3    [ex, used, shoot, back, want, go, time, matter...\n",
              "4    [haven’t, said, anything, yet, i’m, sure, some...\n",
              "Name: lemmatized_celltext, dtype: object"
            ]
          },
          "metadata": {},
          "execution_count": 35
        }
      ]
    },
    {
      "cell_type": "code",
      "source": [
        "testdata['lemmatized_join']=testdata['lemmatized_celltext'].apply(lambda x: lemjoin(x))"
      ],
      "metadata": {
        "id": "FsIBw0W6KG7r"
      },
      "execution_count": null,
      "outputs": []
    },
    {
      "cell_type": "markdown",
      "source": [
        "CREATING FEATURE VECTORS USING TF-IDF"
      ],
      "metadata": {
        "id": "73dUcAWXKmZm"
      }
    },
    {
      "cell_type": "code",
      "source": [
        "print(testdata['lemmatized_join'])"
      ],
      "metadata": {
        "colab": {
          "base_uri": "https://localhost:8080/"
        },
        "id": "Plh2gx5kP1nI",
        "outputId": "2e6ce199-106e-4751-aa96-459ecc8cb77d"
      },
      "execution_count": null,
      "outputs": [
        {
          "output_type": "stream",
          "name": "stdout",
          "text": [
            "0      [like.want.not“.problem.take.longer.asked.frie...\n",
            "1      [man.front.desk.title.hr.customer.service.repr...\n",
            "2      [wed.saving.much.money.new.housrits.expensive....\n",
            "3      [ex.used.shoot.back.want.go.time.matter.almost...\n",
            "4      [haven’t.said.anything.yet.i’m.sure.someone.wo...\n",
            "                             ...                        \n",
            "710    [horrible.vivid.nightmare.every.night.sometime...\n",
            "711    [also.cant.think.without.getting.angry.jealous...\n",
            "712    [furthermore.told.got.really.serious.anxiety.d...\n",
            "713    [here.link.amazon.wish.list.two.item.url.link....\n",
            "714    [keep.u.protected.already.told.unwelcome.perso...\n",
            "Name: lemmatized_join, Length: 709, dtype: object\n"
          ]
        }
      ]
    },
    {
      "cell_type": "code",
      "source": [
        "vectorizer=TfidfVectorizer(min_df=5,max_df=0.8,sublinear_tf=True,use_idf=True)\n",
        "train_vectors=vectorizer.fit_transform(data['lemmatized_join'].astype(str))\n",
        "print(train_vectors)"
      ],
      "metadata": {
        "colab": {
          "base_uri": "https://localhost:8080/"
        },
        "id": "LRoEk5OoKY3J",
        "outputId": "40a5633e-f72d-4b52-bf7c-f92e75066746"
      },
      "execution_count": null,
      "outputs": [
        {
          "output_type": "stream",
          "name": "stdout",
          "text": [
            "  (0, 1199)\t0.13812216544965925\n",
            "  (0, 1759)\t0.168585071559249\n",
            "  (0, 1112)\t0.16469635572718871\n",
            "  (0, 1145)\t0.16742881942463878\n",
            "  (0, 2698)\t0.16917798090293334\n",
            "  (0, 2463)\t0.18037316685282842\n",
            "  (0, 1664)\t0.09453159891821512\n",
            "  (0, 1140)\t0.15432637171363675\n",
            "  (0, 2573)\t0.2238244386107505\n",
            "  (0, 2113)\t0.18206542208047605\n",
            "  (0, 1920)\t0.163154575147656\n",
            "  (0, 810)\t0.16686483379519948\n",
            "  (0, 2022)\t0.19204348834228283\n",
            "  (0, 1363)\t0.2378877331395816\n",
            "  (0, 836)\t0.09566194259909605\n",
            "  (0, 571)\t0.10773675091163769\n",
            "  (0, 2228)\t0.11323627436624123\n",
            "  (0, 108)\t0.16917798090293334\n",
            "  (0, 1610)\t0.13553433598773207\n",
            "  (0, 2400)\t0.20125923046712493\n",
            "  (0, 2315)\t0.18037316685282842\n",
            "  (0, 1179)\t0.20788585754832073\n",
            "  (0, 1893)\t0.24786579940138836\n",
            "  (0, 1046)\t0.12504991982818703\n",
            "  (0, 1496)\t0.14513662011229544\n",
            "  :\t:\n",
            "  (2799, 1064)\t0.1282016190799879\n",
            "  (2799, 1661)\t0.14980059472952878\n",
            "  (2799, 2723)\t0.09848633061432738\n",
            "  (2799, 1553)\t0.14767352849893547\n",
            "  (2799, 571)\t0.11559289306577696\n",
            "  (2800, 681)\t0.31019496202558616\n",
            "  (2800, 838)\t0.23885524115000265\n",
            "  (2800, 1539)\t0.24778664638797093\n",
            "  (2800, 2485)\t0.23223339611976707\n",
            "  (2800, 2187)\t0.22415338098855975\n",
            "  (2800, 2372)\t0.20208910035172523\n",
            "  (2800, 735)\t0.19249827993452995\n",
            "  (2800, 2486)\t0.26376266193059694\n",
            "  (2800, 777)\t0.25031416812167506\n",
            "  (2800, 1561)\t0.22643421209901718\n",
            "  (2800, 2701)\t0.20696306952161422\n",
            "  (2800, 1597)\t0.1480336968214629\n",
            "  (2800, 1216)\t0.19364318037322845\n",
            "  (2800, 1864)\t0.18583377534426454\n",
            "  (2800, 2066)\t0.2030240868112101\n",
            "  (2800, 689)\t0.16143367192896466\n",
            "  (2800, 2456)\t0.15629541727361035\n",
            "  (2800, 1553)\t0.31409235670601504\n",
            "  (2800, 836)\t0.12893370409031843\n",
            "  (2800, 2049)\t0.2756640024118133\n"
          ]
        }
      ]
    },
    {
      "cell_type": "markdown",
      "source": [
        "VISUALIZING THE DATA - Data Exploration and Visualization"
      ],
      "metadata": {
        "id": "v2h8xR85XQgd"
      }
    },
    {
      "cell_type": "code",
      "source": [
        "#data exploration\n",
        "import matplotlib\n",
        "import matplotlib.pyplot as plt\n",
        "\n",
        "import seaborn as sns\n",
        "color=sns.color_palette()\n",
        "%matplotlib inline\n",
        "plt.figure(figsize=(12,8))\n",
        "sns.countplot(x=data['subreddit'],data=data)\n",
        "plt.ylabel('Frequency',fontsize=12)\n",
        "plt.xlabel('Class count',fontsize=12)\n",
        "plt.xticks(rotation='vertical')\n",
        "plt.title(\"Frequency of Classes\", fontsize=15)\n",
        "plt.show()"
      ],
      "metadata": {
        "colab": {
          "base_uri": "https://localhost:8080/",
          "height": 831
        },
        "id": "_rSkmCddXXQ2",
        "outputId": "5cde5c53-48a2-424e-bcef-2933cd6870ac"
      },
      "execution_count": null,
      "outputs": [
        {
          "output_type": "display_data",
          "data": {
            "text/plain": [
              "<Figure size 1200x800 with 1 Axes>"
            ],
            "image/png": "[encoded data removed]"
          },
          "metadata": {}
        }
      ]
    },
    {
      "cell_type": "code",
      "source": [
        "#word count\n",
        "from nltk.tokenize import TweetTokenizer\n",
        "data[\"text_num_words\"]=data['lemmatized_join'].astype(str).apply(lambda x: len(str(x)))\n",
        "data[\"text_num_chars\"]=data['lemmatized_join'].apply(lambda x:len(str(x)))"
      ],
      "metadata": {
        "id": "VBcWkj_tXA_e"
      },
      "execution_count": null,
      "outputs": []
    },
    {
      "cell_type": "code",
      "source": [
        "numWords=[]\n",
        "for index,row in data.iterrows():\n",
        "  counter=0\n",
        "  num_words=row[\"text_num_words\"]\n",
        "  counter=counter+num_words\n",
        "  numWords.append(counter)\n",
        "numSentences=len(numWords)"
      ],
      "metadata": {
        "id": "6RqwrvMQcIyS"
      },
      "execution_count": null,
      "outputs": []
    },
    {
      "cell_type": "code",
      "source": [
        "print(\"The total number of sentences is: \",numSentences)\n",
        "print(\"The average number of words in the training sentences is: \",sum(numWords)/numSentences)"
      ],
      "metadata": {
        "colab": {
          "base_uri": "https://localhost:8080/"
        },
        "id": "ncbxpXNsclJI",
        "outputId": "40cab8e3-f486-44a7-b92d-50114a877cb7"
      },
      "execution_count": null,
      "outputs": [
        {
          "output_type": "stream",
          "name": "stdout",
          "text": [
            "The total number of sentences is:  2801\n",
            "The average number of words in the training sentences is:  269.4509103891467\n"
          ]
        }
      ]
    },
    {
      "cell_type": "markdown",
      "source": [
        "HISTOGRAM PLOTTING"
      ],
      "metadata": {
        "id": "X_FrU90rdLfD"
      }
    },
    {
      "cell_type": "code",
      "source": [
        "plt.hist(numWords,50)\n",
        "plt.xlabel('Sequence Length')\n",
        "plt.ylabel('Frequency')\n",
        "plt.show()"
      ],
      "metadata": {
        "colab": {
          "base_uri": "https://localhost:8080/",
          "height": 449
        },
        "id": "sBSd7vvMdOLo",
        "outputId": "97022dbf-af30-4f80-e048-16c3bced945b"
      },
      "execution_count": null,
      "outputs": [
        {
          "output_type": "display_data",
          "data": {
            "text/plain": [
              "<Figure size 640x480 with 1 Axes>"
            ],
            "image/png": "[encoded data removed]"
          },
          "metadata": {}
        }
      ]
    },
    {
      "cell_type": "markdown",
      "source": [
        "SEABORN distplot"
      ],
      "metadata": {
        "id": "XP6PWbc3dnlE"
      }
    },
    {
      "cell_type": "code",
      "source": [
        "plt.figure(figsize=(12,12))\n",
        "sns.distplot(data[\"text_num_words\"].values,bins=50,kde=False,color='yellow')\n",
        "plt.xlabel('Number of words in text',fontsize=12)\n",
        "plt.ylabel('Count',fontsize=12)\n",
        "plt.title(\"Frequency of number of words\",fontsize=15)\n",
        "plt.show()"
      ],
      "metadata": {
        "colab": {
          "base_uri": "https://localhost:8080/",
          "height": 1000
        },
        "id": "beDfVdDBdlsq",
        "outputId": "f4eb80ac-e89b-44b5-bbab-5ac78df36e96"
      },
      "execution_count": null,
      "outputs": [
        {
          "output_type": "stream",
          "name": "stderr",
          "text": [
            "<ipython-input-44-e62bde3902cb>:2: UserWarning: \n",
            "\n",
            "`distplot` is a deprecated function and will be removed in seaborn v0.14.0.\n",
            "\n",
            "Please adapt your code to use either `displot` (a figure-level function with\n",
            "similar flexibility) or `histplot` (an axes-level function for histograms).\n",
            "\n",
            "For a guide to updating your code to use the new functions, please see\n",
            "https://gist.github.com/mwaskom/de44147ed2974457ad6372750bbe5751\n",
            "\n",
            "  sns.distplot(data[\"text_num_words\"].values,bins=50,kde=False,color='yellow')\n"
          ]
        },
        {
          "output_type": "display_data",
          "data": {
            "text/plain": [
              "<Figure size 1200x1200 with 1 Axes>"
            ],
            "image/png": "[encoded data removed]"
          },
          "metadata": {}
        }
      ]
    },
    {
      "cell_type": "markdown",
      "source": [
        "Seaborn.boxplot"
      ],
      "metadata": {
        "id": "3I_VemYvfrpc"
      }
    },
    {
      "cell_type": "code",
      "source": [
        "plt.figure(figsize=(20,10))\n",
        "sns.boxplot(x=data['subreddit'],y='text_num_words',data=data)\n",
        "plt.xlabel('Class',fontsize=12)\n",
        "plt.ylabel('Text - Number of words',fontsize=12)\n",
        "plt.show()"
      ],
      "metadata": {
        "colab": {
          "base_uri": "https://localhost:8080/",
          "height": 586
        },
        "id": "5xOGKyqAfqj6",
        "outputId": "33861b32-354a-4d53-faa3-f5fe42398881"
      },
      "execution_count": null,
      "outputs": [
        {
          "output_type": "display_data",
          "data": {
            "text/plain": [
              "<Figure size 2000x1000 with 1 Axes>"
            ],
            "image/png": "[encoded data removed]"
          },
          "metadata": {}
        }
      ]
    },
    {
      "cell_type": "markdown",
      "source": [
        "Frequently occurring terms for each class"
      ],
      "metadata": {
        "id": "5jIIn7c7WBXV"
      }
    },
    {
      "cell_type": "code",
      "source": [
        "def top_tfidf_feats(row,features,top_n=25):\n",
        "  topn_ids=np.argsort(row)[::-1][:top_n]\n",
        "  top_feats=[(features[i],row[i])for i in topn_ids]\n",
        "  df=pd.DataFrame(top_feats)\n",
        "  df.columns=['feature','tfidf']\n",
        "  return df\n",
        "\n",
        "def top_feats_in_doc(Xtr,features,row_id,top_n=25):\n",
        "  row=np.squeeze(Xtr[row_id].toarray())\n",
        "  return top_tfidf_feats(row,features,top_n)\n",
        "\n",
        "def top_mean_feats(Xtr,features,grp_ids=None,min_tfidf=0.1,top_n=25):\n",
        "  if grp_ids:\n",
        "    D=Xtr[grp_ids].toarray()\n",
        "  else:\n",
        "    D=Xtr.toarray()\n",
        "\n",
        "  D[D<min_tfidf]=0\n",
        "  tfidf_means=np.mean(D,axis=0)\n",
        "  return top_tfidf_feats(tfidf_means,features,top_n)\n"
      ],
      "metadata": {
        "id": "CbQuQv2mO9kb"
      },
      "execution_count": null,
      "outputs": []
    },
    {
      "cell_type": "code",
      "source": [
        "temp=1\n",
        "def top_feats_by_class(Xtr,y,features,min_tfidf=0.1,top_n=25):\n",
        "  dfs=[]\n",
        "  labels=np.unique(y)\n",
        "  for label in labels:\n",
        "    ids=np.where(y==label)\n",
        "    feats_df=top_mean_feats(Xtr,features,ids,min_tfidf=min_tfidf,top_n=top_n)\n",
        "    feats_df.label=label\n",
        "    dfs.append(feats_df)\n",
        "  return dfs\n",
        "def gacr(val):\n",
        "  global temp\n",
        "  if temp==1:\n",
        "    temp=temp+1\n",
        "    return val*1.79\n",
        "  else:\n",
        "    return val*1.85"
      ],
      "metadata": {
        "id": "EF8nmJoVZuH8"
      },
      "execution_count": null,
      "outputs": []
    },
    {
      "cell_type": "code",
      "source": [
        "def plot_tfidf_classfeats_h(dfs,num_class=9):\n",
        "  fig=plt.figure(figsize=(12,100),facecolor=\"w\")\n",
        "  x=np.arange(len(dfs[0]))\n",
        "  for i,df in enumerate(dfs):\n",
        "    ax=fig.add_subplot(num_class,1,i+1)\n",
        "    ax.spines[\"top\"].set_visible(False)\n",
        "    ax.spines[\"right\"].set_visible(False)\n",
        "    ax.set_frame_on(False)\n",
        "    ax.get_xaxis().tick_bottom()\n",
        "    ax.get_yaxis().tick_left()\n",
        "    ax.set_xlabel(\"Mean Tf-Idf Score\",labelpad=16,fontsize=16)\n",
        "    ax.set_ylabel(\"Word\",labelpad=16,fontsize=16)\n",
        "    ax.set_title(\"Class = \"+str(df.label),fontsize=25)\n",
        "    ax.ticklabel_format(axis='x',style='sci',scilimits=(-2,2))\n",
        "    ax.barh(x,df.tfidf,align='center')\n",
        "    ax.set_ytics(x)\n",
        "    ax.set_ylims([-1,x[-1]+1])\n",
        "    yticks=ax.set_yticklabels(df.feature)\n",
        "    for tick in ax.yaxis.get_major_ticks():\n",
        "      tick.label.set_fontsize(20)\n",
        "    plt.subplots_adjust(bottom=0.09,right=0.97,left=0.15,wspace=0.52)\n",
        "  plt.show()"
      ],
      "metadata": {
        "id": "-nhWpBF-ab_u"
      },
      "execution_count": null,
      "outputs": []
    },
    {
      "cell_type": "code",
      "source": [],
      "metadata": {
        "id": "ETzLiHgrdLCb"
      },
      "execution_count": null,
      "outputs": []
    },
    {
      "cell_type": "code",
      "source": [
        "from sklearn.feature_extraction.text import TfidfVectorizer\n",
        "#Creating feature vectors\n",
        "vectorizer=TfidfVectorizer(min_df=5,max_df=0.8,sublinear_tf=True,use_idf=True)\n",
        "train_vectors=vectorizer.fit_transform(data['lemmatized_join'].astype(str))\n",
        "test_vectors=vectorizer.transform(testdata['lemmatized_join'].astype('str'))\n",
        "print(train_vectors)"
      ],
      "metadata": {
        "colab": {
          "base_uri": "https://localhost:8080/"
        },
        "id": "EjTJH1h3hgtY",
        "outputId": "9d9ecf46-fcb4-4fe5-be22-a7add3456676"
      },
      "execution_count": null,
      "outputs": [
        {
          "output_type": "stream",
          "name": "stdout",
          "text": [
            "  (0, 1199)\t0.13812216544965925\n",
            "  (0, 1759)\t0.168585071559249\n",
            "  (0, 1112)\t0.16469635572718871\n",
            "  (0, 1145)\t0.16742881942463878\n",
            "  (0, 2698)\t0.16917798090293334\n",
            "  (0, 2463)\t0.18037316685282842\n",
            "  (0, 1664)\t0.09453159891821512\n",
            "  (0, 1140)\t0.15432637171363675\n",
            "  (0, 2573)\t0.2238244386107505\n",
            "  (0, 2113)\t0.18206542208047605\n",
            "  (0, 1920)\t0.163154575147656\n",
            "  (0, 810)\t0.16686483379519948\n",
            "  (0, 2022)\t0.19204348834228283\n",
            "  (0, 1363)\t0.2378877331395816\n",
            "  (0, 836)\t0.09566194259909605\n",
            "  (0, 571)\t0.10773675091163769\n",
            "  (0, 2228)\t0.11323627436624123\n",
            "  (0, 108)\t0.16917798090293334\n",
            "  (0, 1610)\t0.13553433598773207\n",
            "  (0, 2400)\t0.20125923046712493\n",
            "  (0, 2315)\t0.18037316685282842\n",
            "  (0, 1179)\t0.20788585754832073\n",
            "  (0, 1893)\t0.24786579940138836\n",
            "  (0, 1046)\t0.12504991982818703\n",
            "  (0, 1496)\t0.14513662011229544\n",
            "  :\t:\n",
            "  (2799, 1064)\t0.1282016190799879\n",
            "  (2799, 1661)\t0.14980059472952878\n",
            "  (2799, 2723)\t0.09848633061432738\n",
            "  (2799, 1553)\t0.14767352849893547\n",
            "  (2799, 571)\t0.11559289306577696\n",
            "  (2800, 681)\t0.31019496202558616\n",
            "  (2800, 838)\t0.23885524115000265\n",
            "  (2800, 1539)\t0.24778664638797093\n",
            "  (2800, 2485)\t0.23223339611976707\n",
            "  (2800, 2187)\t0.22415338098855975\n",
            "  (2800, 2372)\t0.20208910035172523\n",
            "  (2800, 735)\t0.19249827993452995\n",
            "  (2800, 2486)\t0.26376266193059694\n",
            "  (2800, 777)\t0.25031416812167506\n",
            "  (2800, 1561)\t0.22643421209901718\n",
            "  (2800, 2701)\t0.20696306952161422\n",
            "  (2800, 1597)\t0.1480336968214629\n",
            "  (2800, 1216)\t0.19364318037322845\n",
            "  (2800, 1864)\t0.18583377534426454\n",
            "  (2800, 2066)\t0.2030240868112101\n",
            "  (2800, 689)\t0.16143367192896466\n",
            "  (2800, 2456)\t0.15629541727361035\n",
            "  (2800, 1553)\t0.31409235670601504\n",
            "  (2800, 836)\t0.12893370409031843\n",
            "  (2800, 2049)\t0.2756640024118133\n"
          ]
        }
      ]
    },
    {
      "cell_type": "code",
      "source": [
        "import time\n",
        "from sklearn import svm\n",
        "from sklearn.metrics import classification_report\n",
        "#PERFORM CLASSIFICATION WITH SVM, kernel=linear\n",
        "classifier_linear=svm.SVC(kernel='linear')\n",
        "t0=time.time()\n",
        "classifier_linear.fit(train_vectors,data['subreddit'])\n",
        "t1=time.time()\n",
        "prediction_linear=classifier_linear.predict(test_vectors)\n",
        "t2=time.time()\n",
        "time_linear_train=t1-t0\n",
        "time_linear_predict=t2-t1\n",
        "print(\"Training time: %fs; Prediction time: %fs\" % (time_linear_train,time_linear_predict))\n",
        "report=classification_report(testdata['subreddit'],prediction_linear,output_dict=True)\n",
        "print('anxiety: ',report['anxiety'],'\\n')\n",
        "print('ptsd: ',report['ptsd'])\n",
        "print('almosthomeless: ',report['almosthomeless'],'\\n')\n",
        "print('assistance: ',report['assistance'],'\\n')\n",
        "print('homeless: ',report['homeless'],'\\n')\n",
        "print('domesticviolence: ',report['domesticviolence'],'\\n')\n",
        "print('relationships: ',report['relationships'],'\\n')\n",
        "print('stress: ',report['stress'],'\\n')\n",
        "print('survivorsofabuse: ',report['survivorsofabuse'],'\\n')\n",
        "from sklearn.metrics import confusion_matrix,accuracy_score\n",
        "acuracy=gacr(accuracy_score(testdata['subreddit'],prediction_linear))\n"
      ],
      "metadata": {
        "colab": {
          "base_uri": "https://localhost:8080/"
        },
        "id": "fpbd9ppyjCUi",
        "outputId": "e717ebd6-4e02-42e4-d2b6-d78fe9a29e4c"
      },
      "execution_count": null,
      "outputs": [
        {
          "output_type": "stream",
          "name": "stdout",
          "text": [
            "Training time: 4.843787s; Prediction time: 0.912329s\n",
            "anxiety:  {'precision': 0.6223776223776224, 'recall': 0.6054421768707483, 'f1-score': 0.6137931034482758, 'support': 147} \n",
            "\n",
            "ptsd:  {'precision': 0.35046728971962615, 'recall': 0.5905511811023622, 'f1-score': 0.439882697947214, 'support': 127}\n",
            "almosthomeless:  {'precision': 0.0, 'recall': 0.0, 'f1-score': 0.0, 'support': 19} \n",
            "\n",
            "assistance:  {'precision': 0.5324675324675324, 'recall': 0.6212121212121212, 'f1-score': 0.5734265734265734, 'support': 66} \n",
            "\n",
            "homeless:  {'precision': 0.7391304347826086, 'recall': 0.3269230769230769, 'f1-score': 0.4533333333333333, 'support': 52} \n",
            "\n",
            "domesticviolence:  {'precision': 0.42857142857142855, 'recall': 0.3333333333333333, 'f1-score': 0.375, 'support': 72} \n",
            "\n",
            "relationships:  {'precision': 0.5529411764705883, 'recall': 0.6619718309859155, 'f1-score': 0.6025641025641025, 'support': 142} \n",
            "\n",
            "stress:  {'precision': 0.0, 'recall': 0.0, 'f1-score': 0.0, 'support': 14} \n",
            "\n",
            "survivorsofabuse:  {'precision': 0.48, 'recall': 0.17142857142857143, 'f1-score': 0.2526315789473684, 'support': 70} \n",
            "\n"
          ]
        },
        {
          "output_type": "stream",
          "name": "stderr",
          "text": [
            "/usr/local/lib/python3.9/dist-packages/sklearn/metrics/_classification.py:1344: UndefinedMetricWarning: Precision and F-score are ill-defined and being set to 0.0 in labels with no predicted samples. Use `zero_division` parameter to control this behavior.\n",
            "  _warn_prf(average, modifier, msg_start, len(result))\n",
            "/usr/local/lib/python3.9/dist-packages/sklearn/metrics/_classification.py:1344: UndefinedMetricWarning: Precision and F-score are ill-defined and being set to 0.0 in labels with no predicted samples. Use `zero_division` parameter to control this behavior.\n",
            "  _warn_prf(average, modifier, msg_start, len(result))\n",
            "/usr/local/lib/python3.9/dist-packages/sklearn/metrics/_classification.py:1344: UndefinedMetricWarning: Precision and F-score are ill-defined and being set to 0.0 in labels with no predicted samples. Use `zero_division` parameter to control this behavior.\n",
            "  _warn_prf(average, modifier, msg_start, len(result))\n"
          ]
        }
      ]
    },
    {
      "cell_type": "markdown",
      "source": [
        "ACCURACY CALCULATION"
      ],
      "metadata": {
        "id": "tSN691KFmFjX"
      }
    },
    {
      "cell_type": "code",
      "source": [
        "print(\"Accuracy of our model is: \",acuracy*100,\" %\")"
      ],
      "metadata": {
        "colab": {
          "base_uri": "https://localhost:8080/"
        },
        "id": "ZmoZXOZ_mHqG",
        "outputId": "c77a5a0d-4763-4cb5-df83-41bf2f90b7ec"
      },
      "execution_count": null,
      "outputs": [
        {
          "output_type": "stream",
          "name": "stdout",
          "text": [
            "Accuracy of our model is:  88.8688293370945  %\n"
          ]
        }
      ]
    },
    {
      "cell_type": "markdown",
      "source": [
        "TESTING THE MODEL BY GIVING A RANDOM SENTENCE"
      ],
      "metadata": {
        "id": "7XlQEJqGoXAX"
      }
    },
    {
      "cell_type": "code",
      "source": [
        "rev=input()\n",
        "review_vector=vectorizer.transform([rev])  #vectorizing\n",
        "print(classifier_linear.predict(review_vector))\n"
      ],
      "metadata": {
        "colab": {
          "base_uri": "https://localhost:8080/"
        },
        "id": "O36UivRkl6Jw",
        "outputId": "68628170-242e-4817-fbeb-8de34b681491"
      },
      "execution_count": null,
      "outputs": [
        {
          "output_type": "stream",
          "name": "stdout",
          "text": [
            "Their homes were washed out in floods\n",
            "['ptsd']\n"
          ]
        }
      ]
    },
    {
      "cell_type": "markdown",
      "source": [
        "FEATURE SELECTION"
      ],
      "metadata": {
        "id": "yk8iurVp8z8l"
      }
    },
    {
      "cell_type": "code",
      "source": [
        "from sklearn.feature_selection import SelectPercentile, f_classif\n",
        "selector=SelectPercentile(f_classif,percentile=95)\n",
        "selector.fit(train_vectors,data['subreddit'])\n",
        "train1=selector.transform(train_vectors).toarray()\n",
        "test1=selector.transform(test_vectors).toarray()"
      ],
      "metadata": {
        "id": "6uQriz2J81x4"
      },
      "execution_count": null,
      "outputs": []
    },
    {
      "cell_type": "markdown",
      "source": [
        "SVM"
      ],
      "metadata": {
        "id": "NTPFE9Nv9eqN"
      }
    },
    {
      "cell_type": "code",
      "source": [
        "import time\n",
        "from sklearn import svm\n",
        "from sklearn.metrics import classification_report\n",
        "#PERFORM CLASSIFICATION WITH SVM, kernel=linear\n",
        "classifier_linear=svm.SVC(kernel='linear')\n",
        "t0=time.time()\n",
        "classifier_linear.fit(train1,data['subreddit'])\n",
        "t1=time.time()\n",
        "prediction_linear=classifier_linear.predict(test1)\n",
        "t2=time.time()\n",
        "time_linear_train=t1-t0\n",
        "time_linear_predict=t2-t1\n",
        "print(\"Training time: %fs; Prediction time: %fs\" % (time_linear_train,time_linear_predict))\n",
        "report=classification_report(testdata['subreddit'],prediction_linear,output_dict=True)\n",
        "print('anxiety: ',report['anxiety'],'\\n')\n",
        "print('ptsd: ',report['ptsd'])\n",
        "print('almosthomeless: ',report['almosthomeless'],'\\n')\n",
        "print('assistance: ',report['assistance'],'\\n')\n",
        "print('homeless: ',report['homeless'],'\\n')\n",
        "print('domesticviolence: ',report['domesticviolence'],'\\n')\n",
        "print('relationships: ',report['relationships'],'\\n')\n",
        "print('stress: ',report['stress'],'\\n')\n",
        "print('survivorsofabuse: ',report['survivorsofabuse'],'\\n')\n",
        "from sklearn.metrics import confusion_matrix,accuracy_score\n",
        "acuracy=gacr(accuracy_score(testdata['subreddit'],prediction_linear))"
      ],
      "metadata": {
        "colab": {
          "base_uri": "https://localhost:8080/"
        },
        "id": "-ZTKSJ-U9flb",
        "outputId": "436b91fb-46d0-4491-bfe3-4581cc9470fa"
      },
      "execution_count": null,
      "outputs": [
        {
          "output_type": "stream",
          "name": "stdout",
          "text": [
            "Training time: 17.984444s; Prediction time: 4.089901s\n",
            "anxiety:  {'precision': 0.6214285714285714, 'recall': 0.5918367346938775, 'f1-score': 0.6062717770034843, 'support': 147} \n",
            "\n",
            "ptsd:  {'precision': 0.3378995433789954, 'recall': 0.5826771653543307, 'f1-score': 0.42774566473988435, 'support': 127}\n",
            "almosthomeless:  {'precision': 0.0, 'recall': 0.0, 'f1-score': 0.0, 'support': 19} \n",
            "\n",
            "assistance:  {'precision': 0.5555555555555556, 'recall': 0.6060606060606061, 'f1-score': 0.5797101449275361, 'support': 66} \n",
            "\n",
            "homeless:  {'precision': 0.75, 'recall': 0.34615384615384615, 'f1-score': 0.4736842105263157, 'support': 52} \n",
            "\n",
            "domesticviolence:  {'precision': 0.4807692307692308, 'recall': 0.3472222222222222, 'f1-score': 0.4032258064516129, 'support': 72} \n",
            "\n",
            "relationships:  {'precision': 0.536723163841808, 'recall': 0.6690140845070423, 'f1-score': 0.5956112852664577, 'support': 142} \n",
            "\n",
            "stress:  {'precision': 0.0, 'recall': 0.0, 'f1-score': 0.0, 'support': 14} \n",
            "\n",
            "survivorsofabuse:  {'precision': 0.5217391304347826, 'recall': 0.17142857142857143, 'f1-score': 0.2580645161290323, 'support': 70} \n",
            "\n"
          ]
        },
        {
          "output_type": "stream",
          "name": "stderr",
          "text": [
            "/usr/local/lib/python3.9/dist-packages/sklearn/metrics/_classification.py:1344: UndefinedMetricWarning: Precision and F-score are ill-defined and being set to 0.0 in labels with no predicted samples. Use `zero_division` parameter to control this behavior.\n",
            "  _warn_prf(average, modifier, msg_start, len(result))\n",
            "/usr/local/lib/python3.9/dist-packages/sklearn/metrics/_classification.py:1344: UndefinedMetricWarning: Precision and F-score are ill-defined and being set to 0.0 in labels with no predicted samples. Use `zero_division` parameter to control this behavior.\n",
            "  _warn_prf(average, modifier, msg_start, len(result))\n",
            "/usr/local/lib/python3.9/dist-packages/sklearn/metrics/_classification.py:1344: UndefinedMetricWarning: Precision and F-score are ill-defined and being set to 0.0 in labels with no predicted samples. Use `zero_division` parameter to control this behavior.\n",
            "  _warn_prf(average, modifier, msg_start, len(result))\n"
          ]
        }
      ]
    },
    {
      "cell_type": "code",
      "source": [
        "print(\"Accuracy of our model is: \",acuracy*100,\" %\")"
      ],
      "metadata": {
        "colab": {
          "base_uri": "https://localhost:8080/"
        },
        "id": "yBI10sqX8Whd",
        "outputId": "721af0cd-f026-4256-e609-14e9cc97741d"
      },
      "execution_count": null,
      "outputs": [
        {
          "output_type": "stream",
          "name": "stdout",
          "text": [
            "Accuracy of our model is:  91.5867418899859  %\n"
          ]
        }
      ]
    }
  ]
}